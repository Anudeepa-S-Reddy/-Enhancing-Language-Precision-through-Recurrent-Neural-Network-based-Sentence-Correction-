{
 "cells": [
  {
   "cell_type": "code",
   "execution_count": 1,
   "metadata": {
    "executionInfo": {
     "elapsed": 2351,
     "status": "ok",
     "timestamp": 1621957401652,
     "user": {
      "displayName": "anu S",
      "photoUrl": "",
      "userId": "14082537833439756662"
     },
     "user_tz": -330
    },
    "id": "7y8doRYXxNhX"
   },
   "outputs": [],
   "source": [
    "import numpy as np\n",
    "import pandas as pd\n",
    "import tensorflow as tf\n",
    "import keras\n",
    "import pickle\n",
    "from tensorflow.keras.models import Model\n",
    "from tensorflow.keras.layers import *\n",
    "from keras.models import load_model"
   ]
  },
  {
   "cell_type": "code",
   "execution_count": 4,
   "metadata": {
    "executionInfo": {
     "elapsed": 1806,
     "status": "ok",
     "timestamp": 1621957450288,
     "user": {
      "displayName": "anu S",
      "photoUrl": "",
      "userId": "14082537833439756662"
     },
     "user_tz": -330
    },
    "id": "af52fJDlMlzn"
   },
   "outputs": [],
   "source": [
    "embedding_matrix=pickle.load(open('embed_mat1.pkl','rb'))\n",
    "tokenizer=pickle.load(open('tokenizer1.pkl','rb'))"
   ]
  },
  {
   "cell_type": "code",
   "execution_count": 5,
   "metadata": {
    "executionInfo": {
     "elapsed": 447,
     "status": "ok",
     "timestamp": 1621957456838,
     "user": {
      "displayName": "anu S",
      "photoUrl": "",
      "userId": "14082537833439756662"
     },
     "user_tz": -330
    },
    "id": "-mSQdaiCicTe"
   },
   "outputs": [],
   "source": [
    "vocab_size=(len(tokenizer.word_index)+1)"
   ]
  },
  {
   "cell_type": "code",
   "execution_count": 7,
   "metadata": {
    "executionInfo": {
     "elapsed": 7,
     "status": "ok",
     "timestamp": 1621957461031,
     "user": {
      "displayName": "anu S",
      "photoUrl": "",
      "userId": "14082537833439756662"
     },
     "user_tz": -330
    },
    "id": "hSWZB9xHsn2t"
   },
   "outputs": [],
   "source": [
    "max_len=39\n",
    "max_len_dec=44"
   ]
  },
  {
   "cell_type": "markdown",
   "metadata": {
    "id": "lzsOVC27PM2a"
   },
   "source": [
    "### Model"
   ]
  },
  {
   "cell_type": "code",
   "execution_count": 9,
   "metadata": {
    "executionInfo": {
     "elapsed": 6,
     "status": "ok",
     "timestamp": 1621957493124,
     "user": {
      "displayName": "anu S",
      "photoUrl": "",
      "userId": "14082537833439756662"
     },
     "user_tz": -330
    },
    "id": "wHHcOoS5Myho"
   },
   "outputs": [],
   "source": [
    "path='/content/gdrive/MyDrive/CS_2/CS2Model'"
   ]
  },
  {
   "cell_type": "code",
   "execution_count": 10,
   "metadata": {
    "executionInfo": {
     "elapsed": 56808,
     "status": "ok",
     "timestamp": 1621957552643,
     "user": {
      "displayName": "anu S",
      "photoUrl": "",
      "userId": "14082537833439756662"
     },
     "user_tz": -330
    },
    "id": "Jl7zdH1LMw9C"
   },
   "outputs": [],
   "source": [
    "model = tf.saved_model.load(path)"
   ]
  },
  {
   "cell_type": "markdown",
   "metadata": {
    "id": "hS_VaT_jg8fc"
   },
   "source": [
    "### Predictions"
   ]
  },
  {
   "cell_type": "code",
   "execution_count": 11,
   "metadata": {
    "executionInfo": {
     "elapsed": 591,
     "status": "ok",
     "timestamp": 1621957557933,
     "user": {
      "displayName": "anu S",
      "photoUrl": "",
      "userId": "14082537833439756662"
     },
     "user_tz": -330
    },
    "id": "otrxYgMBM4wB"
   },
   "outputs": [],
   "source": [
    "def predict(input_sentence, model):\n",
    "\n",
    "  input_sequence=tokenizer.texts_to_sequences([input_sentence])\n",
    "  inputs=pad_sequences(input_sequence, maxlen=max_len, padding='post')\n",
    "  inputs=tf.convert_to_tensor(inputs)\n",
    "  result=''\n",
    "  units=128\n",
    "  hidden=[tf.zeros((1,units))]\n",
    "  encoder_output,hidden_state,cell_state=model.encoder(inputs)\n",
    "  dec_hidden=hidden_state\n",
    "  dec_input=tf.expand_dims([tokenizer.word_index['<start>']],0)\n",
    "  for t in range(40):\n",
    "      predictions,dec_hidden,cell_state,attention_weights,context_vector=model.decoder.onestepdecoder((dec_input,encoder_output,dec_hidden,cell_state))\n",
    "\n",
    "      predicted_id=tf.argmax(predictions[0]).numpy()\n",
    "      result+=tokenizer.index_word[predicted_id]+' '\n",
    "      if tokenizer.word_index['<end>']==predicted_id:\n",
    "          return result\n",
    "      dec_input= tf.expand_dims([predicted_id],0)\n",
    "  return result"
   ]
  },
  {
   "cell_type": "code",
   "execution_count": 15,
   "metadata": {
    "executionInfo": {
     "elapsed": 418,
     "status": "ok",
     "timestamp": 1621957647603,
     "user": {
      "displayName": "anu S",
      "photoUrl": "",
      "userId": "14082537833439756662"
     },
     "user_tz": -330
    },
    "id": "qQ_Je6YvNYUG"
   },
   "outputs": [],
   "source": [
    "data=pd.read_csv('data_wl')"
   ]
  },
  {
   "cell_type": "code",
   "execution_count": null,
   "metadata": {
    "colab": {
     "base_uri": "https://localhost:8080/"
    },
    "executionInfo": {
     "elapsed": 2547,
     "status": "ok",
     "timestamp": 1621958727956,
     "user": {
      "displayName": "anu S",
      "photoUrl": "",
      "userId": "14082537833439756662"
     },
     "user_tz": -330
    },
    "id": "4dW6WkYbdAGp",
    "outputId": "4ffe8a1c-3e78-4a52-e31a-d3037b2a9f03"
   },
   "outputs": [
    {
     "name": "stdout",
     "output_type": "stream",
     "text": [
      "Input: Violyn can you intro.?\n",
      "Prediction: Violyn can you introduce <end> \n",
      "Actual: Violyn, can you introduce? <end>\n",
      "---------------------------------------\n",
      "Input: Yea...Its a superstition thing. Go temple n take e first joss stick. Its always featured in news lei... Last min hug buddha leg. Not good... :p\n",
      "Prediction: Yea it's superstition Have to the temple to the weirdest track be a bit of the news Doing last minute reply But my dear friend got no school <end> \n",
      "Actual: Yea, it's superstition. Have to go to the temple to take the first joss stick. It's always featured in the news. Doing last minute work, it's not good. <end>\n",
      "---------------------------------------\n",
      "Input: Im not workg...Wat time junmei aft work? I saw david ytd...\n",
      "Prediction: I'm not not not sure I'll not be late I have photograph <end> \n",
      "Actual: I'm not working. What time is Junmei after work? I saw David yesterday. <end>\n",
      "---------------------------------------\n",
      "Input: Can u pls call me?\n",
      "Prediction: Can you call me me <end> \n",
      "Actual: Can you please call me? <end>\n",
      "---------------------------------------\n",
      "Input: It's u .. Not me ..\n",
      "Prediction: It's you Not me <end> \n",
      "Actual: It's you. Not me. <end>\n",
      "---------------------------------------\n",
      "Input: I din ask yet... I saw e ad... The one at mohamad sultan nd pple...\n",
      "Prediction: I know I am not very sure haven't settle one at Mohammad sultan needs other people <end> \n",
      "Actual: I didn't ask yet. I saw the advertisement. The one at Mohammad sultan needs other people. <end>\n",
      "---------------------------------------\n",
      "Input: Hi, i'm outside honors lab 5 now.\n",
      "Prediction: Hi I'm outside Honors Lab 5 now <end> \n",
      "Actual: Hi, I'm outside Honors Lab 5 now. <end>\n",
      "---------------------------------------\n",
      "Input: Hey u called me rite, is it bcos of leona t thing? I jus called her.\n",
      "Prediction: Hey you called me right She is not much to your house Anyway what you want <end> \n",
      "Actual: Hey you called me right, is it because of Leona that thing? I just called her. <end>\n",
      "---------------------------------------\n",
      "Input: Thanks 4 e goodies! They taste really gd..U Happy Chi New Yr 2 u..\n",
      "Prediction: Thanks for the goodies They taste really good Happy Chinese New Year to you <end> \n",
      "Actual: Thanks for the goodies! They taste really good. Happy Chinese New Year to you. <end>\n",
      "---------------------------------------\n",
      "Input: Hello! Juz wanna wish you an advance happy new year! Hope u stay sweet and pretty... how have u been? Haven seen u for long time.\n",
      "Prediction: Hello Just have to hear you Hope you have been recently Hope you have been recently Maybe you had a good time I have a new time <end> \n",
      "Actual: Hello! Just want to wish you an advance happy new year! Hope you stay sweet and pretty. How have you been? I haven't seen you for a long time. <end>\n",
      "---------------------------------------\n"
     ]
    }
   ],
   "source": [
    "for i in range(0,10):\n",
    "    input_sentence=data.Source.iloc[i]\n",
    "    print('Input:',input_sentence)\n",
    "    print('Prediction:',predict(input_sentence, model))\n",
    "    print('Actual:',data.Target_out.iloc[i])\n",
    "    print('---------------------------------------')"
   ]
  }
 ],
 "metadata": {
  "accelerator": "GPU",
  "colab": {
   "collapsed_sections": [],
   "machine_shape": "hm",
   "name": "Final_CS2.ipynb",
   "provenance": [
    {
     "file_id": "1Addy_AtItTnMaXKPWVdchyd1oJ-fOrBF",
     "timestamp": 1621957373579
    },
    {
     "file_id": "1VJoTqEjwe4xZz2_3cpmjvMo9Eyh4OhWH",
     "timestamp": 1621957300056
    },
    {
     "file_id": "1IzPbxNFQmmSYk9s14L4YjBfUgACn9mW2",
     "timestamp": 1621411468526
    },
    {
     "file_id": "1G7NKeneJNyRtcRxLVbbF9jYtRyuTOa-R",
     "timestamp": 1592749700622
    },
    {
     "file_id": "https://github.com/satyajitghana/TSAI-DeepVision-EVA4.0/blob/master/Utils/Colab_25GBRAM_GPU.ipynb",
     "timestamp": 1592043804148
    }
   ],
   "toc_visible": true
  },
  "kernelspec": {
   "display_name": "Python 3",
   "language": "python",
   "name": "python3"
  },
  "language_info": {
   "codemirror_mode": {
    "name": "ipython",
    "version": 3
   },
   "file_extension": ".py",
   "mimetype": "text/x-python",
   "name": "python",
   "nbconvert_exporter": "python",
   "pygments_lexer": "ipython3",
   "version": "3.6.5"
  }
 },
 "nbformat": 4,
 "nbformat_minor": 1
}
