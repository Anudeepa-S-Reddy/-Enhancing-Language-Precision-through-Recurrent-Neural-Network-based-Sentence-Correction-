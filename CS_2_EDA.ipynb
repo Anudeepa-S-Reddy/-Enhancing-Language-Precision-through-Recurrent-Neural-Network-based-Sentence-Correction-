{
 "cells": [
  {
   "cell_type": "markdown",
   "metadata": {
    "id": "EaM5Yj3joEAt"
   },
   "source": [
    "## 1. Business Problem:\n",
    "\n",
    "The performance of many state of art NLP models is increased when the data input is in standard english domain. But, the text available in most of the cases consists of shortened words. So, it is important to preprocess this raw text before feeding it to the model.\n",
    "\n",
    "### **Problem statement:**\n",
    "\n",
    "In this case study, we build a model that takes the shortened/corrupted text as input and outputs the the text in standard english.\n",
    "\n",
    "### **Business constraints:**\n",
    "\n",
    "It is important to give correct translations of raw text, as the NLP model performance depends on this input data(which should therefore be in uncorrupted form.)\n",
    "\n",
    "## 2.Dataset Overview:\n",
    "\n",
    "The data we have consists of 2000 texts in raw english format and its standard version followed by its chinese translation.\n",
    "We only need Raw text and standard english domain version.\n",
    " \n",
    "## 3.Success metric:\n",
    "As given in the research paper we will use perplexity as the metric. Perplexity metric gives the degree of 'uncertainty' a model has in predicting the text.we can also use bleu score or accuracy for the purpose.\n",
    "\n"
   ]
  },
  {
   "cell_type": "markdown",
   "metadata": {
    "id": "lwYS4SGE69lj"
   },
   "source": [
    "### Imports"
   ]
  },
  {
   "cell_type": "code",
   "execution_count": null,
   "metadata": {
    "id": "EbZlNxbpsE8a"
   },
   "outputs": [],
   "source": [
    "import numpy as np\n",
    "import pandas as pd\n",
    "import os\n",
    "import seaborn as sns\n",
    "import matplotlib as plt\n",
    "import matplotlib.pyplot as plt\n",
    "from pylab import *"
   ]
  },
  {
   "cell_type": "code",
   "execution_count": null,
   "metadata": {
    "colab": {
     "base_uri": "https://localhost:8080/"
    },
    "executionInfo": {
     "elapsed": 20257,
     "status": "ok",
     "timestamp": 1620310953371,
     "user": {
      "displayName": "Deepu S",
      "photoUrl": "https://lh3.googleusercontent.com/a-/AOh14GhA3jWBdgJvxz0fRJHDdC-2zr5r_I2FAAyJ57Yw81s=s64",
      "userId": "08960752430539190859"
     },
     "user_tz": -330
    },
    "id": "BdFtzPxsurdw",
    "outputId": "591c0da7-68f8-4601-f1f8-08a004e710ea"
   },
   "outputs": [
    {
     "name": "stdout",
     "output_type": "stream",
     "text": [
      "Mounted at /content/gdrive/\n"
     ]
    }
   ],
   "source": [
    "from google.colab import drive\n",
    "drive.mount('/content/gdrive/')"
   ]
  },
  {
   "cell_type": "markdown",
   "metadata": {
    "id": "nReGYjjhNKNI"
   },
   "source": [
    "## Loading the data"
   ]
  },
  {
   "cell_type": "code",
   "execution_count": null,
   "metadata": {
    "colab": {
     "base_uri": "https://localhost:8080/"
    },
    "executionInfo": {
     "elapsed": 2019,
     "status": "ok",
     "timestamp": 1620310956910,
     "user": {
      "displayName": "Deepu S",
      "photoUrl": "https://lh3.googleusercontent.com/a-/AOh14GhA3jWBdgJvxz0fRJHDdC-2zr5r_I2FAAyJ57Yw81s=s64",
      "userId": "08960752430539190859"
     },
     "user_tz": -330
    },
    "id": "IPsB_Q0MvC66",
    "outputId": "ed5f107f-469d-4e6b-ac3b-6964cf2e4be4"
   },
   "outputs": [
    {
     "name": "stdout",
     "output_type": "stream",
     "text": [
      "release/\n",
      "release/en2cn-2k.en2nen2cn\n",
      "release/README\n"
     ]
    }
   ],
   "source": [
    "!tar xvzf /content/gdrive/MyDrive/sm_norm_mt.tar.gz #extracting the files from the WinRAR folder "
   ]
  },
  {
   "cell_type": "code",
   "execution_count": null,
   "metadata": {
    "id": "drb1HALK0OY2"
   },
   "outputs": [],
   "source": [
    "f=open('/content/gdrive/MyDrive/release/en2cn-2k.en2nen2cn','r')\n",
    "lines=f.readlines() #Reading the text inside the file"
   ]
  },
  {
   "cell_type": "code",
   "execution_count": null,
   "metadata": {
    "colab": {
     "base_uri": "https://localhost:8080/"
    },
    "executionInfo": {
     "elapsed": 1409,
     "status": "ok",
     "timestamp": 1620310962549,
     "user": {
      "displayName": "Deepu S",
      "photoUrl": "https://lh3.googleusercontent.com/a-/AOh14GhA3jWBdgJvxz0fRJHDdC-2zr5r_I2FAAyJ57Yw81s=s64",
      "userId": "08960752430539190859"
     },
     "user_tz": -330
    },
    "id": "hA4h2dJyODja",
    "outputId": "0b9b0f7c-3271-41d8-f002-499eca34bf3b"
   },
   "outputs": [
    {
     "data": {
      "text/plain": [
       "['U wan me to \"chop\" seat 4 u nt?\\n',\n",
       " 'Do you want me to reserve seat for you or not?\\n',\n",
       " '你要我帮你预留坐位吗？\\n',\n",
       " 'Yup. U reaching. We order some durian pastry already. U come quick.\\n',\n",
       " 'Yeap. You reaching? We ordered some Durian pastry already. You come quick.\\n',\n",
       " '对。你要到了吗？我们已经点了一些榴莲糕点。你快点来。\\n']"
      ]
     },
     "execution_count": 5,
     "metadata": {
      "tags": []
     },
     "output_type": "execute_result"
    }
   ],
   "source": [
    "lines[0:6]"
   ]
  },
  {
   "cell_type": "markdown",
   "metadata": {
    "id": "F0cux_s0OCvn"
   },
   "source": [
    "<font color='green'>So, we have the normal sms text followed by standard english version followed by its chinese translation."
   ]
  },
  {
   "cell_type": "markdown",
   "metadata": {
    "id": "DySwvUqLOqwU"
   },
   "source": [
    "<font color='green'>We only want normal and standard version of texts.\n"
   ]
  },
  {
   "cell_type": "code",
   "execution_count": null,
   "metadata": {
    "id": "FQm8tnO83o9H"
   },
   "outputs": [],
   "source": [
    "index1=[]\n",
    "index2=[]\n",
    "j=0\n",
    "for i in range(0,2000):\n",
    "    #getting the indexes of texts\n",
    "    index1.append(j)\n",
    "    index2.append(j+1)\n",
    "    j+=3\n",
    "corrupted_text=[]\n",
    "std_text=[]\n",
    "chinese_text=[]\n",
    "for i in index1:\n",
    "    corrupted_text.append(lines[i])\n",
    "for i in index2:\n",
    "    std_text.append(lines[i])"
   ]
  },
  {
   "cell_type": "code",
   "execution_count": null,
   "metadata": {
    "id": "GrQk9Gh6_Dtu"
   },
   "outputs": [],
   "source": [
    "data=pd.DataFrame(zip(corrupted_text,std_text),columns=['Source','Target'])"
   ]
  },
  {
   "cell_type": "code",
   "execution_count": null,
   "metadata": {
    "colab": {
     "base_uri": "https://localhost:8080/",
     "height": 404
    },
    "executionInfo": {
     "elapsed": 1189,
     "status": "ok",
     "timestamp": 1620310973911,
     "user": {
      "displayName": "Deepu S",
      "photoUrl": "https://lh3.googleusercontent.com/a-/AOh14GhA3jWBdgJvxz0fRJHDdC-2zr5r_I2FAAyJ57Yw81s=s64",
      "userId": "08960752430539190859"
     },
     "user_tz": -330
    },
    "id": "xYOxnma-Njpk",
    "outputId": "1a531ded-055e-4353-eb74-c440d8cc21bf"
   },
   "outputs": [
    {
     "data": {
      "text/html": [
       "<div>\n",
       "<style scoped>\n",
       "    .dataframe tbody tr th:only-of-type {\n",
       "        vertical-align: middle;\n",
       "    }\n",
       "\n",
       "    .dataframe tbody tr th {\n",
       "        vertical-align: top;\n",
       "    }\n",
       "\n",
       "    .dataframe thead th {\n",
       "        text-align: right;\n",
       "    }\n",
       "</style>\n",
       "<table border=\"1\" class=\"dataframe\">\n",
       "  <thead>\n",
       "    <tr style=\"text-align: right;\">\n",
       "      <th></th>\n",
       "      <th>Source</th>\n",
       "      <th>Target</th>\n",
       "    </tr>\n",
       "  </thead>\n",
       "  <tbody>\n",
       "    <tr>\n",
       "      <th>0</th>\n",
       "      <td>U wan me to \"chop\" seat 4 u nt?\\n</td>\n",
       "      <td>Do you want me to reserve seat for you or not?\\n</td>\n",
       "    </tr>\n",
       "    <tr>\n",
       "      <th>1</th>\n",
       "      <td>Yup. U reaching. We order some durian pastry a...</td>\n",
       "      <td>Yeap. You reaching? We ordered some Durian pas...</td>\n",
       "    </tr>\n",
       "    <tr>\n",
       "      <th>2</th>\n",
       "      <td>They become more ex oredi... Mine is like 25.....</td>\n",
       "      <td>They become more expensive already. Mine is li...</td>\n",
       "    </tr>\n",
       "    <tr>\n",
       "      <th>3</th>\n",
       "      <td>I'm thai. what do u do?\\n</td>\n",
       "      <td>I'm Thai. What do you do?\\n</td>\n",
       "    </tr>\n",
       "    <tr>\n",
       "      <th>4</th>\n",
       "      <td>Hi! How did your week go? Haven heard from you...</td>\n",
       "      <td>Hi! How did your week go? Haven't heard from y...</td>\n",
       "    </tr>\n",
       "    <tr>\n",
       "      <th>...</th>\n",
       "      <td>...</td>\n",
       "      <td>...</td>\n",
       "    </tr>\n",
       "    <tr>\n",
       "      <th>1995</th>\n",
       "      <td>Hmmm... Thk i usually book on wkends... Depend...</td>\n",
       "      <td>Hmm. I think I usually book on weekends. It de...</td>\n",
       "    </tr>\n",
       "    <tr>\n",
       "      <th>1996</th>\n",
       "      <td>ask them got any sms messages to gif me lei......</td>\n",
       "      <td>Can you ask them whether they have for any sms...</td>\n",
       "    </tr>\n",
       "    <tr>\n",
       "      <th>1997</th>\n",
       "      <td>We r near coca oredi...\\n</td>\n",
       "      <td>We are near Coca already.\\n</td>\n",
       "    </tr>\n",
       "    <tr>\n",
       "      <th>1998</th>\n",
       "      <td>hall Eleven. Got lectures le mah.èn forget abt...</td>\n",
       "      <td>Hall eleven. Got lectures. And forget about co...</td>\n",
       "    </tr>\n",
       "    <tr>\n",
       "      <th>1999</th>\n",
       "      <td>I Bring for u. I can not promise u 100% to win...</td>\n",
       "      <td>I bring for you. I can not promise you 100% to...</td>\n",
       "    </tr>\n",
       "  </tbody>\n",
       "</table>\n",
       "<p>2000 rows × 2 columns</p>\n",
       "</div>"
      ],
      "text/plain": [
       "                                                 Source                                             Target\n",
       "0                     U wan me to \"chop\" seat 4 u nt?\\n   Do you want me to reserve seat for you or not?\\n\n",
       "1     Yup. U reaching. We order some durian pastry a...  Yeap. You reaching? We ordered some Durian pas...\n",
       "2     They become more ex oredi... Mine is like 25.....  They become more expensive already. Mine is li...\n",
       "3                             I'm thai. what do u do?\\n                        I'm Thai. What do you do?\\n\n",
       "4     Hi! How did your week go? Haven heard from you...  Hi! How did your week go? Haven't heard from y...\n",
       "...                                                 ...                                                ...\n",
       "1995  Hmmm... Thk i usually book on wkends... Depend...  Hmm. I think I usually book on weekends. It de...\n",
       "1996  ask them got any sms messages to gif me lei......  Can you ask them whether they have for any sms...\n",
       "1997                          We r near coca oredi...\\n                        We are near Coca already.\\n\n",
       "1998  hall Eleven. Got lectures le mah.èn forget abt...  Hall eleven. Got lectures. And forget about co...\n",
       "1999  I Bring for u. I can not promise u 100% to win...  I bring for you. I can not promise you 100% to...\n",
       "\n",
       "[2000 rows x 2 columns]"
      ]
     },
     "execution_count": 8,
     "metadata": {
      "tags": []
     },
     "output_type": "execute_result"
    }
   ],
   "source": [
    "data"
   ]
  },
  {
   "cell_type": "code",
   "execution_count": null,
   "metadata": {
    "id": "Nt43ZItvS5fL"
   },
   "outputs": [],
   "source": [
    "Source_words = data['Source'].str.split().apply(len) #Gives the count of words in each sentence\n",
    "Target_words = data['Target'].str.split().apply(len)\n",
    "Source_lengths = data['Source'].apply(len) # Gives the length of each sentence\n",
    "Target_lengths = data['Target'].apply(len)"
   ]
  },
  {
   "cell_type": "markdown",
   "metadata": {
    "id": "apWHdVeJnhcK"
   },
   "source": [
    "## Histogram of lengths of phrases"
   ]
  },
  {
   "cell_type": "code",
   "execution_count": null,
   "metadata": {
    "colab": {
     "base_uri": "https://localhost:8080/",
     "height": 571
    },
    "executionInfo": {
     "elapsed": 1595,
     "status": "ok",
     "timestamp": 1620310982834,
     "user": {
      "displayName": "Deepu S",
      "photoUrl": "https://lh3.googleusercontent.com/a-/AOh14GhA3jWBdgJvxz0fRJHDdC-2zr5r_I2FAAyJ57Yw81s=s64",
      "userId": "08960752430539190859"
     },
     "user_tz": -330
    },
    "id": "nNCBnlqO7Fad",
    "outputId": "45e891bc-da53-435a-bc7c-38497e9300dc"
   },
   "outputs": [
    {
     "name": "stderr",
     "output_type": "stream",
     "text": [
      "/usr/local/lib/python3.7/dist-packages/seaborn/distributions.py:2557: FutureWarning: `distplot` is a deprecated function and will be removed in a future version. Please adapt your code to use either `displot` (a figure-level function with similar flexibility) or `histplot` (an axes-level function for histograms).\n",
      "  warnings.warn(msg, FutureWarning)\n"
     ]
    },
    {
     "data": {
      "image/png": "[encoded data removed]",
      "text/plain": [
       "<Figure size 1440x720 with 2 Axes>"
      ]
     },
     "metadata": {
      "tags": []
     },
     "output_type": "display_data"
    }
   ],
   "source": [
    "#https://pythonbasics.org/seaborn-distplot/#Distplot-examples\n",
    "sns.set(rc={\"figure.figsize\": (20,10)})\n",
    "\n",
    "subplot(1,2,1)\n",
    "ax = sns.set_style('whitegrid')\n",
    "ax = sns.distplot(Source_words,kde=False, axlabel='no.of words in source phrases')\n",
    "\n",
    "subplot(1,2,2)\n",
    "ax = sns.set_style('whitegrid')\n",
    "ax = sns.distplot(Target_words,kde=False, axlabel='no.of words in target phrases')\n",
    "\n",
    "plt.show()"
   ]
  },
  {
   "cell_type": "markdown",
   "metadata": {
    "id": "hKsR_lSyqagL"
   },
   "source": [
    "<font color='green'> Here, the source and target phrases that have words more than 40 are very less.\n",
    "\n",
    "<font color='green'> Very few target phrases have words between 40 to 60.\n",
    "\n",
    "<font color='green'> we try to calculate the exact percentile of sentences having words>40.\n"
   ]
  },
  {
   "cell_type": "code",
   "execution_count": null,
   "metadata": {
    "colab": {
     "base_uri": "https://localhost:8080/"
    },
    "executionInfo": {
     "elapsed": 838,
     "status": "ok",
     "timestamp": 1620310984878,
     "user": {
      "displayName": "Deepu S",
      "photoUrl": "https://lh3.googleusercontent.com/a-/AOh14GhA3jWBdgJvxz0fRJHDdC-2zr5r_I2FAAyJ57Yw81s=s64",
      "userId": "08960752430539190859"
     },
     "user_tz": -330
    },
    "id": "FkZnsLm-sWR5",
    "outputId": "cf68ae53-962c-4088-b5f1-ae032410a173"
   },
   "outputs": [
    {
     "name": "stdout",
     "output_type": "stream",
     "text": [
      "0 1.0\n",
      "10 5.0\n",
      "20 6.0\n",
      "30 8.0\n",
      "40 10.0\n",
      "50 11.0\n",
      "60 13.399999999999864\n",
      "70 16.0\n",
      "80 20.0\n",
      "90 25.0\n",
      "100 49.0\n",
      "-----------------------\n",
      "0 1.0\n",
      "10 5.0\n",
      "20 7.0\n",
      "30 8.0\n",
      "40 10.0\n",
      "50 12.0\n",
      "60 14.0\n",
      "70 17.0\n",
      "80 22.0\n",
      "90 27.0\n",
      "100 59.0\n"
     ]
    }
   ],
   "source": [
    "for i in range(0,101,10):\n",
    "    print(i,np.percentile(Source_words, i))\n",
    "print('-----------------------')\n",
    "for i in range(0,101,10):\n",
    "    print(i,np.percentile(Target_words, i))"
   ]
  },
  {
   "cell_type": "markdown",
   "metadata": {
    "id": "ayzVTJIjsjnO"
   },
   "source": [
    "<font color='green'>90 percent of source phrases have the below 25 words and 90 percent of target phrases have the below 27 words. We try to see the percentile values between 90 to 100."
   ]
  },
  {
   "cell_type": "code",
   "execution_count": null,
   "metadata": {
    "colab": {
     "base_uri": "https://localhost:8080/"
    },
    "executionInfo": {
     "elapsed": 1289,
     "status": "ok",
     "timestamp": 1620310987405,
     "user": {
      "displayName": "Deepu S",
      "photoUrl": "https://lh3.googleusercontent.com/a-/AOh14GhA3jWBdgJvxz0fRJHDdC-2zr5r_I2FAAyJ57Yw81s=s64",
      "userId": "08960752430539190859"
     },
     "user_tz": -330
    },
    "id": "XBH7J193sexp",
    "outputId": "c5388c81-c41a-4278-faeb-d1a2b6308380"
   },
   "outputs": [
    {
     "name": "stdout",
     "output_type": "stream",
     "text": [
      "90 25.0\n",
      "91 26.0\n",
      "92 27.0\n",
      "93 28.0\n",
      "94 28.0\n",
      "95 29.0\n",
      "96 30.0\n",
      "97 31.0\n",
      "98 32.01999999999998\n",
      "99 34.0\n",
      "100 49.0\n",
      "-----------------------\n",
      "90 27.0\n",
      "91 28.0\n",
      "92 29.0\n",
      "93 29.070000000000164\n",
      "94 31.0\n",
      "95 32.0\n",
      "96 33.0\n",
      "97 34.0\n",
      "98 35.01999999999998\n",
      "99 38.0\n",
      "100 59.0\n"
     ]
    }
   ],
   "source": [
    "for i in range(90,101):\n",
    "    print(i,np.percentile(Source_words, i))\n",
    "print('-----------------------')\n",
    "for i in range(90,101):\n",
    "    print(i,np.percentile(Target_words, i))"
   ]
  },
  {
   "cell_type": "code",
   "execution_count": null,
   "metadata": {
    "colab": {
     "base_uri": "https://localhost:8080/"
    },
    "executionInfo": {
     "elapsed": 1195,
     "status": "ok",
     "timestamp": 1620310988868,
     "user": {
      "displayName": "Deepu S",
      "photoUrl": "https://lh3.googleusercontent.com/a-/AOh14GhA3jWBdgJvxz0fRJHDdC-2zr5r_I2FAAyJ57Yw81s=s64",
      "userId": "08960752430539190859"
     },
     "user_tz": -330
    },
    "id": "xX8O4P6gshLr",
    "outputId": "37aa2d18-ee77-4947-ebb9-5b4dc4fae811"
   },
   "outputs": [
    {
     "name": "stdout",
     "output_type": "stream",
     "text": [
      "99.1 35.0\n",
      "99.2 35.0\n",
      "99.3 35.0\n",
      "99.4 35.0\n",
      "99.5 36.0\n",
      "99.6 36.003999999999905\n",
      "99.7 37.0\n",
      "99.8 37.003999999999905\n",
      "99.9 39.001000000000204\n",
      "100 49.0\n",
      "-----------------------\n",
      "99.1 38.0\n",
      "99.2 38.00800000000004\n",
      "99.3 39.0\n",
      "99.4 39.0\n",
      "99.5 40.0\n",
      "99.6 41.003999999999905\n",
      "99.7 42.00299999999993\n",
      "99.8 43.00599999999986\n",
      "99.9 48.00200000000041\n",
      "100 59.0\n"
     ]
    }
   ],
   "source": [
    "for i in [99.1,99.2,99.3,99.4,99.5,99.6,99.7,99.8,99.9,100]:\n",
    "    print(i,np.percentile(Source_words, i))\n",
    "print('-----------------------')\n",
    "for i in [99.1,99.2,99.3,99.4,99.5,99.6,99.7,99.8,99.9,100]:\n",
    "    print(i,np.percentile(Target_words, i))"
   ]
  },
  {
   "cell_type": "markdown",
   "metadata": {
    "id": "fK_doQK3tRls"
   },
   "source": [
    "<font color='green'> It means 99.9 percent of the Source phrases have below 39 words in them and 99.9 percent of the target phrases have below 48 words in them.\n",
    "So, we consider only the lines that have 39 or less number of words. Rest are discarded as outliers."
   ]
  },
  {
   "cell_type": "markdown",
   "metadata": {
    "id": "5tmqBkN3t7Z2"
   },
   "source": [
    "<font color='green'>Similarly, We Identify the outliers based on lengths of sentences."
   ]
  },
  {
   "cell_type": "code",
   "execution_count": null,
   "metadata": {
    "colab": {
     "base_uri": "https://localhost:8080/",
     "height": 478
    },
    "executionInfo": {
     "elapsed": 1943,
     "status": "ok",
     "timestamp": 1620310991614,
     "user": {
      "displayName": "Deepu S",
      "photoUrl": "https://lh3.googleusercontent.com/a-/AOh14GhA3jWBdgJvxz0fRJHDdC-2zr5r_I2FAAyJ57Yw81s=s64",
      "userId": "08960752430539190859"
     },
     "user_tz": -330
    },
    "id": "xMqRNOORm3bu",
    "outputId": "3dbca874-18b0-436a-b396-4e22ca5c1532"
   },
   "outputs": [
    {
     "name": "stderr",
     "output_type": "stream",
     "text": [
      "/usr/local/lib/python3.7/dist-packages/seaborn/distributions.py:2557: FutureWarning: `distplot` is a deprecated function and will be removed in a future version. Please adapt your code to use either `displot` (a figure-level function with similar flexibility) or `histplot` (an axes-level function for histograms).\n",
      "  warnings.warn(msg, FutureWarning)\n"
     ]
    },
    {
     "data": {
      "image/png": "[encoded data removed]",
      "text/plain": [
       "<Figure size 1440x576 with 2 Axes>"
      ]
     },
     "metadata": {
      "tags": []
     },
     "output_type": "display_data"
    }
   ],
   "source": [
    "sns.set(rc={\"figure.figsize\": (20,8)})\n",
    "\n",
    "subplot(1,2,1)\n",
    "ax = sns.set_style('whitegrid')\n",
    "ax = sns.distplot(Source_lengths,kde=False, axlabel='no.of characters in source phrases')\n",
    "\n",
    "subplot(1,2,2)\n",
    "ax = sns.set_style('whitegrid')\n",
    "ax = sns.distplot(Target_lengths,kde=False, axlabel='no.of characters in target phrases')\n",
    "\n",
    "plt.show()"
   ]
  },
  {
   "cell_type": "code",
   "execution_count": null,
   "metadata": {
    "colab": {
     "base_uri": "https://localhost:8080/"
    },
    "executionInfo": {
     "elapsed": 1081,
     "status": "ok",
     "timestamp": 1620310993822,
     "user": {
      "displayName": "Deepu S",
      "photoUrl": "https://lh3.googleusercontent.com/a-/AOh14GhA3jWBdgJvxz0fRJHDdC-2zr5r_I2FAAyJ57Yw81s=s64",
      "userId": "08960752430539190859"
     },
     "user_tz": -330
    },
    "id": "jNubSH2NK20J",
    "outputId": "0f388843-054e-4cd6-86a7-cd88a0d3607f"
   },
   "outputs": [
    {
     "name": "stdout",
     "output_type": "stream",
     "text": [
      "99.1 160.0\n",
      "99.2 160.00800000000004\n",
      "99.3 161.0\n",
      "99.4 161.0\n",
      "99.5 161.0\n",
      "99.6 161.0\n",
      "99.7 161.0\n",
      "99.8 162.01999999999953\n",
      "99.9 203.0030000000006\n",
      "100 222.0\n",
      "-------------------------\n",
      "99.1 193.0\n",
      "99.2 193.01600000000008\n",
      "99.3 197.00700000000006\n",
      "99.4 198.0\n",
      "99.5 199.00499999999988\n",
      "99.6 201.0\n",
      "99.7 201.0209999999995\n",
      "99.8 216.04999999999882\n",
      "99.9 242.0030000000006\n",
      "100 282.0\n"
     ]
    }
   ],
   "source": [
    "for i in [99.1,99.2,99.3,99.4,99.5,99.6,99.7,99.8,99.9,100]:\n",
    "    print(i,np.percentile(Source_lengths, i))\n",
    "print('-------------------------')\n",
    "for i in [99.1,99.2,99.3,99.4,99.5,99.6,99.7,99.8,99.9,100]:\n",
    "    print(i,np.percentile(Target_lengths, i))"
   ]
  },
  {
   "cell_type": "markdown",
   "metadata": {
    "id": "CYYVX2ZWvxkW"
   },
   "source": [
    "<font color='green'>99.9 percent of the source sentences have lengths less than 162 and 99.9 percent of the target sentences have lengths lesser then 201."
   ]
  },
  {
   "cell_type": "code",
   "execution_count": null,
   "metadata": {
    "id": "-86kTr7_DgOp"
   },
   "outputs": [],
   "source": [
    "data.to_csv('/content/gdrive/MyDrive/CS_2/data',index=False)"
   ]
  }
 ],
 "metadata": {
  "colab": {
   "collapsed_sections": [],
   "machine_shape": "hm",
   "name": "CS_2_EDA.ipynb",
   "provenance": [
    {
     "file_id": "1IzPbxNFQmmSYk9s14L4YjBfUgACn9mW2",
     "timestamp": 1620271148922
    },
    {
     "file_id": "1G7NKeneJNyRtcRxLVbbF9jYtRyuTOa-R",
     "timestamp": 1592749700622
    },
    {
     "file_id": "https://github.com/satyajitghana/TSAI-DeepVision-EVA4.0/blob/master/Utils/Colab_25GBRAM_GPU.ipynb",
     "timestamp": 1592043804148
    }
   ],
   "toc_visible": true
  },
  "kernelspec": {
   "display_name": "Python 3",
   "language": "python",
   "name": "python3"
  },
  "language_info": {
   "codemirror_mode": {
    "name": "ipython",
    "version": 3
   },
   "file_extension": ".py",
   "mimetype": "text/x-python",
   "name": "python",
   "nbconvert_exporter": "python",
   "pygments_lexer": "ipython3",
   "version": "3.6.5"
  }
 },
 "nbformat": 4,
 "nbformat_minor": 1
}
