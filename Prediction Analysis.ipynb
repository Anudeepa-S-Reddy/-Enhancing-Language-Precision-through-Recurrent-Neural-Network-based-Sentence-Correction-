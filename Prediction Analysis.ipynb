{
 "cells": [
  {
   "cell_type": "code",
   "execution_count": 1,
   "metadata": {
    "executionInfo": {
     "elapsed": 4680,
     "status": "ok",
     "timestamp": 1621336580146,
     "user": {
      "displayName": "Deepu S",
      "photoUrl": "https://lh3.googleusercontent.com/a-/AOh14GhA3jWBdgJvxz0fRJHDdC-2zr5r_I2FAAyJ57Yw81s=s64",
      "userId": "08960752430539190859"
     },
     "user_tz": -330
    },
    "id": "7y8doRYXxNhX"
   },
   "outputs": [],
   "source": [
    "import numpy as np\n",
    "import pandas as pd\n",
    "from sklearn.model_selection import train_test_split\n",
    "import tensorflow as tf\n",
    "import keras\n",
    "import pickle\n",
    "import seaborn as sns\n",
    "import matplotlib as plt\n",
    "import matplotlib.pyplot as plt\n",
    "from pylab import *\n",
    "from keras.callbacks import LearningRateScheduler\n",
    "from tensorflow.keras.layers import Embedding, LSTM, Dense\n",
    "from tensorflow.keras.models import Model\n",
    "from tensorflow.keras.layers import *\n",
    "from tensorflow.keras.preprocessing.text import Tokenizer\n",
    "from tensorflow.keras.preprocessing.sequence import pad_sequences\n",
    "from keras.callbacks import ModelCheckpoint, EarlyStopping, TensorBoard, ReduceLROnPlateau"
   ]
  },
  {
   "cell_type": "code",
   "execution_count": 2,
   "metadata": {
    "colab": {
     "base_uri": "https://localhost:8080/"
    },
    "executionInfo": {
     "elapsed": 27599,
     "status": "ok",
     "timestamp": 1621336607763,
     "user": {
      "displayName": "Deepu S",
      "photoUrl": "https://lh3.googleusercontent.com/a-/AOh14GhA3jWBdgJvxz0fRJHDdC-2zr5r_I2FAAyJ57Yw81s=s64",
      "userId": "08960752430539190859"
     },
     "user_tz": -330
    },
    "id": "0d-4G0YuNK9p",
    "outputId": "253e18e1-7cb4-4329-e88f-1b6328b2a39d"
   },
   "outputs": [
    {
     "name": "stdout",
     "output_type": "stream",
     "text": [
      "Mounted at /content/gdrive/\n"
     ]
    }
   ],
   "source": [
    "from google.colab import drive\n",
    "drive.mount('/content/gdrive/')"
   ]
  },
  {
   "cell_type": "code",
   "execution_count": 3,
   "metadata": {
    "colab": {
     "base_uri": "https://localhost:8080/"
    },
    "executionInfo": {
     "elapsed": 7046,
     "status": "ok",
     "timestamp": 1621336607765,
     "user": {
      "displayName": "Deepu S",
      "photoUrl": "https://lh3.googleusercontent.com/a-/AOh14GhA3jWBdgJvxz0fRJHDdC-2zr5r_I2FAAyJ57Yw81s=s64",
      "userId": "08960752430539190859"
     },
     "user_tz": -330
    },
    "id": "cS8kzU8QNSfa",
    "outputId": "c5a3e2a2-f24b-4204-8b19-d663380d0482"
   },
   "outputs": [
    {
     "name": "stdout",
     "output_type": "stream",
     "text": [
      "/content/gdrive/MyDrive/CS_2\n"
     ]
    }
   ],
   "source": [
    "%cd /content/gdrive/MyDrive/CS_2"
   ]
  },
  {
   "cell_type": "markdown",
   "metadata": {
    "id": "R8X9NYydcaXG"
   },
   "source": [
    "## Data"
   ]
  },
  {
   "cell_type": "code",
   "execution_count": 4,
   "metadata": {
    "executionInfo": {
     "elapsed": 6970,
     "status": "ok",
     "timestamp": 1621336610364,
     "user": {
      "displayName": "Deepu S",
      "photoUrl": "https://lh3.googleusercontent.com/a-/AOh14GhA3jWBdgJvxz0fRJHDdC-2zr5r_I2FAAyJ57Yw81s=s64",
      "userId": "08960752430539190859"
     },
     "user_tz": -330
    },
    "id": "kHcFx-A2ZQre"
   },
   "outputs": [],
   "source": [
    "data=pd.read_csv('data_wl')"
   ]
  },
  {
   "cell_type": "code",
   "execution_count": 5,
   "metadata": {
    "colab": {
     "base_uri": "https://localhost:8080/",
     "height": 246
    },
    "executionInfo": {
     "elapsed": 2013,
     "status": "ok",
     "timestamp": 1621336612387,
     "user": {
      "displayName": "Deepu S",
      "photoUrl": "https://lh3.googleusercontent.com/a-/AOh14GhA3jWBdgJvxz0fRJHDdC-2zr5r_I2FAAyJ57Yw81s=s64",
      "userId": "08960752430539190859"
     },
     "user_tz": -330
    },
    "id": "qSie8FbObvpJ",
    "outputId": "6ac87772-3bb4-4b1b-ea00-1040fa9f6c24"
   },
   "outputs": [
    {
     "data": {
      "text/html": [
       "<div>\n",
       "<style scoped>\n",
       "    .dataframe tbody tr th:only-of-type {\n",
       "        vertical-align: middle;\n",
       "    }\n",
       "\n",
       "    .dataframe tbody tr th {\n",
       "        vertical-align: top;\n",
       "    }\n",
       "\n",
       "    .dataframe thead th {\n",
       "        text-align: right;\n",
       "    }\n",
       "</style>\n",
       "<table border=\"1\" class=\"dataframe\">\n",
       "  <thead>\n",
       "    <tr style=\"text-align: right;\">\n",
       "      <th></th>\n",
       "      <th>Source</th>\n",
       "      <th>Target_inp</th>\n",
       "      <th>Target_out</th>\n",
       "    </tr>\n",
       "  </thead>\n",
       "  <tbody>\n",
       "    <tr>\n",
       "      <th>0</th>\n",
       "      <td>U wan me to \"chop\" seat 4 u nt?</td>\n",
       "      <td>&lt;start&gt; Do you want me to reserve seat for you...</td>\n",
       "      <td>Do you want me to reserve seat for you or not?...</td>\n",
       "    </tr>\n",
       "    <tr>\n",
       "      <th>1</th>\n",
       "      <td>Yup. U reaching. We order some durian pastry a...</td>\n",
       "      <td>&lt;start&gt; Yeap. You reaching? We ordered some Du...</td>\n",
       "      <td>Yeap. You reaching? We ordered some Durian pas...</td>\n",
       "    </tr>\n",
       "    <tr>\n",
       "      <th>2</th>\n",
       "      <td>They become more ex oredi... Mine is like 25.....</td>\n",
       "      <td>&lt;start&gt; They become more expensive already. Mi...</td>\n",
       "      <td>They become more expensive already. Mine is li...</td>\n",
       "    </tr>\n",
       "    <tr>\n",
       "      <th>3</th>\n",
       "      <td>I'm thai. what do u do?</td>\n",
       "      <td>&lt;start&gt; I'm Thai. What do you do?</td>\n",
       "      <td>I'm Thai. What do you do? &lt;end&gt;</td>\n",
       "    </tr>\n",
       "    <tr>\n",
       "      <th>4</th>\n",
       "      <td>Hi! How did your week go? Haven heard from you...</td>\n",
       "      <td>&lt;start&gt; Hi! How did your week go? Haven't hear...</td>\n",
       "      <td>Hi! How did your week go? Haven't heard from y...</td>\n",
       "    </tr>\n",
       "  </tbody>\n",
       "</table>\n",
       "</div>"
      ],
      "text/plain": [
       "                                              Source  ...                                         Target_out\n",
       "0                    U wan me to \"chop\" seat 4 u nt?  ...  Do you want me to reserve seat for you or not?...\n",
       "1  Yup. U reaching. We order some durian pastry a...  ...  Yeap. You reaching? We ordered some Durian pas...\n",
       "2  They become more ex oredi... Mine is like 25.....  ...  They become more expensive already. Mine is li...\n",
       "3                            I'm thai. what do u do?  ...                    I'm Thai. What do you do? <end>\n",
       "4  Hi! How did your week go? Haven heard from you...  ...  Hi! How did your week go? Haven't heard from y...\n",
       "\n",
       "[5 rows x 3 columns]"
      ]
     },
     "execution_count": 5,
     "metadata": {
      "tags": []
     },
     "output_type": "execute_result"
    }
   ],
   "source": [
    "data.head()"
   ]
  },
  {
   "cell_type": "code",
   "execution_count": 6,
   "metadata": {
    "executionInfo": {
     "elapsed": 1294,
     "status": "ok",
     "timestamp": 1621336615471,
     "user": {
      "displayName": "Deepu S",
      "photoUrl": "https://lh3.googleusercontent.com/a-/AOh14GhA3jWBdgJvxz0fRJHDdC-2zr5r_I2FAAyJ57Yw81s=s64",
      "userId": "08960752430539190859"
     },
     "user_tz": -330
    },
    "id": "MIuKGHDVZUYp"
   },
   "outputs": [],
   "source": [
    "tr,val = train_test_split(data, test_size=0.1) # as we have very less data to work with, we use major portion to train the data."
   ]
  },
  {
   "cell_type": "code",
   "execution_count": 7,
   "metadata": {
    "executionInfo": {
     "elapsed": 4525,
     "status": "ok",
     "timestamp": 1621336623243,
     "user": {
      "displayName": "Deepu S",
      "photoUrl": "https://lh3.googleusercontent.com/a-/AOh14GhA3jWBdgJvxz0fRJHDdC-2zr5r_I2FAAyJ57Yw81s=s64",
      "userId": "08960752430539190859"
     },
     "user_tz": -330
    },
    "id": "gRzLcKYBH5A5"
   },
   "outputs": [],
   "source": [
    "embedding_matrix=pickle.load(open('embed_mat.pkl','rb'))\n",
    "tokenizer=pickle.load(open('tokenizer.pkl','rb'))"
   ]
  },
  {
   "cell_type": "code",
   "execution_count": 8,
   "metadata": {
    "executionInfo": {
     "elapsed": 1379,
     "status": "ok",
     "timestamp": 1621336625477,
     "user": {
      "displayName": "Deepu S",
      "photoUrl": "https://lh3.googleusercontent.com/a-/AOh14GhA3jWBdgJvxz0fRJHDdC-2zr5r_I2FAAyJ57Yw81s=s64",
      "userId": "08960752430539190859"
     },
     "user_tz": -330
    },
    "id": "-mSQdaiCicTe"
   },
   "outputs": [],
   "source": [
    "vocab_size=(len(tokenizer.word_index)+1)"
   ]
  },
  {
   "cell_type": "code",
   "execution_count": 9,
   "metadata": {
    "colab": {
     "base_uri": "https://localhost:8080/"
    },
    "executionInfo": {
     "elapsed": 1728,
     "status": "ok",
     "timestamp": 1621336627113,
     "user": {
      "displayName": "Deepu S",
      "photoUrl": "https://lh3.googleusercontent.com/a-/AOh14GhA3jWBdgJvxz0fRJHDdC-2zr5r_I2FAAyJ57Yw81s=s64",
      "userId": "08960752430539190859"
     },
     "user_tz": -330
    },
    "id": "cKYE_f8ANuka",
    "outputId": "92083645-20d6-4026-b3f4-2d17ccab9c6f"
   },
   "outputs": [
    {
     "data": {
      "text/plain": [
       "(3592, (3592, 300))"
      ]
     },
     "execution_count": 9,
     "metadata": {
      "tags": []
     },
     "output_type": "execute_result"
    }
   ],
   "source": [
    "vocab_size,embedding_matrix.shape"
   ]
  },
  {
   "cell_type": "code",
   "execution_count": 10,
   "metadata": {
    "executionInfo": {
     "elapsed": 1541,
     "status": "ok",
     "timestamp": 1621336630042,
     "user": {
      "displayName": "Deepu S",
      "photoUrl": "https://lh3.googleusercontent.com/a-/AOh14GhA3jWBdgJvxz0fRJHDdC-2zr5r_I2FAAyJ57Yw81s=s64",
      "userId": "08960752430539190859"
     },
     "user_tz": -330
    },
    "id": "IlxxrYbJZmyX"
   },
   "outputs": [],
   "source": [
    "# Assigning token digits to every word in a sentence\n",
    "Source_seq_tr = tokenizer.texts_to_sequences(tr['Source']) \n",
    "Target_inp_seq_tr = tokenizer.texts_to_sequences(tr['Target_inp'])\n",
    "Target_out_seq_tr = tokenizer.texts_to_sequences(tr['Target_out'])\n",
    "\n",
    "Source_seq_val = tokenizer.texts_to_sequences(val['Source'])\n",
    "Target_inp_seq_val = tokenizer.texts_to_sequences(val['Target_inp'])\n",
    "Target_out_seq_val = tokenizer.texts_to_sequences(val['Target_out'])"
   ]
  },
  {
   "cell_type": "code",
   "execution_count": 11,
   "metadata": {
    "executionInfo": {
     "elapsed": 2111,
     "status": "ok",
     "timestamp": 1621336632168,
     "user": {
      "displayName": "Deepu S",
      "photoUrl": "https://lh3.googleusercontent.com/a-/AOh14GhA3jWBdgJvxz0fRJHDdC-2zr5r_I2FAAyJ57Yw81s=s64",
      "userId": "08960752430539190859"
     },
     "user_tz": -330
    },
    "id": "0V_tihXqZq1q"
   },
   "outputs": [],
   "source": [
    "l=[]\n",
    "for i in Source_seq_tr:\n",
    "    l.append(len(i))\n",
    "max_len=max(l)"
   ]
  },
  {
   "cell_type": "code",
   "execution_count": 12,
   "metadata": {
    "executionInfo": {
     "elapsed": 1454,
     "status": "ok",
     "timestamp": 1621336632170,
     "user": {
      "displayName": "Deepu S",
      "photoUrl": "https://lh3.googleusercontent.com/a-/AOh14GhA3jWBdgJvxz0fRJHDdC-2zr5r_I2FAAyJ57Yw81s=s64",
      "userId": "08960752430539190859"
     },
     "user_tz": -330
    },
    "id": "2zsJ4nswZtUn"
   },
   "outputs": [],
   "source": [
    "l=[]\n",
    "for i in Target_inp_seq_tr:\n",
    "    l.append(len(i))\n",
    "max_len_dec_ip=max(l)\n",
    "\n",
    "l=[]\n",
    "for i in Target_out_seq_tr:\n",
    "    l.append(len(i))\n",
    "max_len_dec_op=max(l)\n",
    "\n",
    "max_len_dec=max(max_len_dec_ip,max_len_dec_op)"
   ]
  },
  {
   "cell_type": "code",
   "execution_count": 13,
   "metadata": {
    "executionInfo": {
     "elapsed": 1440,
     "status": "ok",
     "timestamp": 1621336634006,
     "user": {
      "displayName": "Deepu S",
      "photoUrl": "https://lh3.googleusercontent.com/a-/AOh14GhA3jWBdgJvxz0fRJHDdC-2zr5r_I2FAAyJ57Yw81s=s64",
      "userId": "08960752430539190859"
     },
     "user_tz": -330
    },
    "id": "6U68ewelZvmS"
   },
   "outputs": [],
   "source": [
    "#Padding the sentences with zeros so that all sentences are of equal length\n",
    "target_inp_tr = pad_sequences(Target_inp_seq_tr,  maxlen=max_len_dec, padding='post')\n",
    "target_out_tr = pad_sequences(Target_out_seq_tr, maxlen=max_len_dec, padding='post')\n",
    "Source_inp_tr = pad_sequences(Source_seq_tr, maxlen=max_len, padding='post')\n",
    "\n",
    "target_inp_val = pad_sequences(Target_inp_seq_val,  maxlen=max_len_dec, padding='post')\n",
    "target_out_val = pad_sequences(Target_out_seq_val, maxlen=max_len_dec, padding='post')\n",
    "Source_inp_val = pad_sequences(Source_seq_val, maxlen=max_len, padding='post')"
   ]
  },
  {
   "cell_type": "markdown",
   "metadata": {
    "id": "dYnnxn4WQPP8"
   },
   "source": [
    "### Custom Functions:"
   ]
  },
  {
   "cell_type": "code",
   "execution_count": 14,
   "metadata": {
    "executionInfo": {
     "elapsed": 1257,
     "status": "ok",
     "timestamp": 1621336635574,
     "user": {
      "displayName": "Deepu S",
      "photoUrl": "https://lh3.googleusercontent.com/a-/AOh14GhA3jWBdgJvxz0fRJHDdC-2zr5r_I2FAAyJ57Yw81s=s64",
      "userId": "08960752430539190859"
     },
     "user_tz": -330
    },
    "id": "E-jkzWNnMYZD"
   },
   "outputs": [],
   "source": [
    "class Encoder(tf.keras.layers.Layer):\n",
    "    def __init__(self, vocab_size, embedding_dim, enc_units,input_length):\n",
    "        super().__init__()\n",
    "        self.vocab_size = vocab_size\n",
    "        self.embedding_dim = embedding_dim\n",
    "        self.input_length = input_length\n",
    "        self.enc_units= enc_units\n",
    "        self.lstm_output = 0\n",
    "        self.lstm_state_h=0\n",
    "        self.lstm_state_c=0\n",
    "        \n",
    "    def build(self, input_shape):\n",
    "        self.embedding = Embedding(input_dim=self.vocab_size, output_dim=self.embedding_dim, input_length=self.input_length,\n",
    "                           mask_zero=True, trainable=True, weights=[embedding_matrix], name=\"embedding_layer_encoder\")\n",
    "        self.lstm = Bidirectional(LSTM(self.enc_units, return_state=True, return_sequences=True, name='Encoder_LSTM2'))\n",
    "        \n",
    "    def call(self, input_sentances, training=True):\n",
    "        input_embedd                           = self.embedding(input_sentances)\n",
    "        self.lstm_output, lstm_state_h_f, lstm_state_c_f, lstm_state_h_b, lstm_state_c_b = self.lstm(input_embedd)\n",
    "        self.lstm_state_h = Concatenate()([lstm_state_h_f, lstm_state_h_b])\n",
    "        self.lstm_state_c = Concatenate()([lstm_state_c_f, lstm_state_c_b])\n",
    "        return self.lstm_output, self.lstm_state_h,self.lstm_state_c\n",
    "\n",
    "    def initialize_states(self, batch_size):\n",
    "        return tf.zeros((batch_size, self.enc_units)), tf.zeros((batch_size, self.enc_units))\n",
    "\n",
    "    def get_states(self):\n",
    "        return self.lstm_state_h,self.lstm_state_c"
   ]
  },
  {
   "cell_type": "code",
   "execution_count": 15,
   "metadata": {
    "executionInfo": {
     "elapsed": 1218,
     "status": "ok",
     "timestamp": 1621336638066,
     "user": {
      "displayName": "Deepu S",
      "photoUrl": "https://lh3.googleusercontent.com/a-/AOh14GhA3jWBdgJvxz0fRJHDdC-2zr5r_I2FAAyJ57Yw81s=s64",
      "userId": "08960752430539190859"
     },
     "user_tz": -330
    },
    "id": "SYP9a-IEMYs2"
   },
   "outputs": [],
   "source": [
    "class Attention(tf.keras.layers.Layer):\n",
    "    \n",
    "    def __init__(self,scoring_function, att_units):\n",
    "        super(Attention,self).__init__()\n",
    "        self.scoring_function = scoring_function\n",
    "        self.att_units = att_units\n",
    "        if self.scoring_function=='dot':\n",
    "            self.dot = tf.keras.layers.Dot(axes=[2,2])\n",
    "        elif scoring_function == 'general':\n",
    "            self.WG = Dense(self.att_units)\n",
    "        elif scoring_function == 'concat':\n",
    "            self.W1 = Dense(att_units)\n",
    "            self.W2 = Dense(att_units)\n",
    "            self.V = Dense(1)\n",
    "  \n",
    "    def call(self,decoder_hidden_state,encoder_output):        \n",
    "        decoder_hidden_state = tf.expand_dims(decoder_hidden_state, axis=1)    \n",
    "        if self.scoring_function == 'dot':\n",
    "            score = self.dot([encoder_output, decoder_hidden_state])\n",
    "        elif self.scoring_function == 'general':          \n",
    "            score = tf.keras.layers.Dot(axes=[2, 2])([self.WG(encoder_output), decoder_hidden_state])\n",
    "        elif self.scoring_function == 'concat':\n",
    "            score = self.V(tf.nn.tanh(self.W1(decoder_hidden_state) + self.W2(encoder_output)))\n",
    "        attention_weights = Softmax(axis=1)(score)     \n",
    "        context_vector = attention_weights * encoder_output\n",
    "        # shape = (batch_size, dec lstm units)\n",
    "        context_vector = tf.reduce_sum(context_vector, axis=1)\n",
    "\n",
    "        return context_vector, attention_weights"
   ]
  },
  {
   "cell_type": "code",
   "execution_count": 16,
   "metadata": {
    "executionInfo": {
     "elapsed": 1368,
     "status": "ok",
     "timestamp": 1621336639973,
     "user": {
      "displayName": "Deepu S",
      "photoUrl": "https://lh3.googleusercontent.com/a-/AOh14GhA3jWBdgJvxz0fRJHDdC-2zr5r_I2FAAyJ57Yw81s=s64",
      "userId": "08960752430539190859"
     },
     "user_tz": -330
    },
    "id": "Qcfq7zCdMfKM"
   },
   "outputs": [],
   "source": [
    "class One_Step_Decoder(tf.keras.Model):\n",
    "    def __init__(self, tar_vocab_size, embedding_dim, input_length, dec_units ,score_fun ,att_units): \n",
    "        super(One_Step_Decoder,self).__init__()\n",
    "        self.vocab_size = tar_vocab_size\n",
    "        self.embedding_dim = embedding_dim\n",
    "        self.input_length = input_length\n",
    "        self.dec_units = dec_units\n",
    "        self.score_fun = score_fun\n",
    "        self.att_units = att_units\n",
    "        self.embedding = Embedding(self.vocab_size, self.embedding_dim, trainable=True, weights=[embedding_matrix], input_length=self.input_length, mask_zero=True, name=\"Att_Dec_Embedding\")\n",
    "        self.lstm = LSTM(self.dec_units, return_sequences=True, return_state=True, name=\"Att_Dec_LSTM\")\n",
    "        self.fc = Dense(self.vocab_size)\n",
    "        self.attention = Attention(self.score_fun,self.att_units)\n",
    "    def call(self, input_to_decoder, encoder_output, state_h, state_c):\n",
    "        embedded_input = self.embedding(input_to_decoder)\n",
    "        context_vector, attention_weights = self.attention(state_h, encoder_output)\n",
    "        decoder_input = tf.concat([tf.expand_dims(context_vector, 1), embedded_input], axis=-1)\n",
    "        decoder_output, dec_state_h, dec_state_c = self.lstm(decoder_input, initial_state=[state_h, state_c])\n",
    "        decoder_output = tf.reshape(decoder_output, (-1, decoder_output.shape[2]))\n",
    "        output = self.fc(decoder_output)\n",
    "        return output, dec_state_h, dec_state_c, attention_weights, context_vector"
   ]
  },
  {
   "cell_type": "code",
   "execution_count": 17,
   "metadata": {
    "executionInfo": {
     "elapsed": 1471,
     "status": "ok",
     "timestamp": 1621336641864,
     "user": {
      "displayName": "Deepu S",
      "photoUrl": "https://lh3.googleusercontent.com/a-/AOh14GhA3jWBdgJvxz0fRJHDdC-2zr5r_I2FAAyJ57Yw81s=s64",
      "userId": "08960752430539190859"
     },
     "user_tz": -330
    },
    "id": "M_famKurMhk0"
   },
   "outputs": [],
   "source": [
    "class Decoder(tf.keras.Model):  \n",
    "    def __init__(self,out_vocab_size, embedding_dim, input_length, dec_units ,score_fun ,att_units):\n",
    "        super(Decoder,self).__init__()\n",
    "        self.vocab_size = out_vocab_size\n",
    "        self.embedding_dim = embedding_dim\n",
    "        self.input_length = input_length\n",
    "        self.dec_units = dec_units\n",
    "        self.score_fun = score_fun\n",
    "        self.att_units = att_units\n",
    "        self.onestepdecoder = One_Step_Decoder(self.vocab_size, self.embedding_dim, self.input_length,\n",
    "                                            self.dec_units, self.score_fun, self.att_units)\n",
    "    def call(self, input_to_decoder,encoder_output,decoder_hidden_state,decoder_cell_state): \n",
    "        all_outputs = tf.TensorArray(tf.float32, size=input_to_decoder.shape[1])\n",
    "        for timestep in range(input_to_decoder.shape[1]):\n",
    "            output, decoder_hidden_state, decoder_cell_state, attention_weights, context_vector = self.onestepdecoder(\n",
    "                input_to_decoder[:, timestep:timestep+1], encoder_output, decoder_hidden_state, decoder_cell_state)\n",
    "            all_outputs = all_outputs.write(timestep, output)\n",
    "        all_outputs = tf.transpose(all_outputs.stack(), [1,0,2])\n",
    "        return all_outputs"
   ]
  },
  {
   "cell_type": "code",
   "execution_count": 18,
   "metadata": {
    "executionInfo": {
     "elapsed": 1699,
     "status": "ok",
     "timestamp": 1621336643736,
     "user": {
      "displayName": "Deepu S",
      "photoUrl": "https://lh3.googleusercontent.com/a-/AOh14GhA3jWBdgJvxz0fRJHDdC-2zr5r_I2FAAyJ57Yw81s=s64",
      "userId": "08960752430539190859"
     },
     "user_tz": -330
    },
    "id": "hlPSzfm7Mleh"
   },
   "outputs": [],
   "source": [
    "class Encoder_decoder(Model):\n",
    "    def __init__(self, encoder_inputs_length,decoder_inputs_length,batch_size, output_vocab_size,score_fun):\n",
    "        super().__init__() # https://stackoverflow.com/a/27134600/4084039\n",
    "        self.batch_size=batch_size\n",
    "        self.encoder = Encoder(vocab_size= vocab_size, embedding_dim=300, input_length=encoder_inputs_length, enc_units=128)\n",
    "        self.decoder = Decoder(out_vocab_size= vocab_size, embedding_dim=300, input_length=decoder_inputs_length, dec_units=256, score_fun=score_fun, att_units=256)\n",
    "    def call(self, data):\n",
    "        input,output = data[0], data[1]\n",
    "        enc_initial_states = self.encoder.initialize_states(self.batch_size)\n",
    "        encoder_output, encoder_h, encoder_c = self.encoder(input,enc_initial_states)\n",
    "        decoder_output   = self.decoder(output, encoder_output, encoder_h, encoder_c)\n",
    "        return decoder_output"
   ]
  },
  {
   "cell_type": "markdown",
   "metadata": {
    "id": "lzsOVC27PM2a"
   },
   "source": [
    "### Model"
   ]
  },
  {
   "cell_type": "code",
   "execution_count": 19,
   "metadata": {
    "executionInfo": {
     "elapsed": 6977,
     "status": "ok",
     "timestamp": 1621336652787,
     "user": {
      "displayName": "Deepu S",
      "photoUrl": "https://lh3.googleusercontent.com/a-/AOh14GhA3jWBdgJvxz0fRJHDdC-2zr5r_I2FAAyJ57Yw81s=s64",
      "userId": "08960752430539190859"
     },
     "user_tz": -330
    },
    "id": "0KDE0bLfNJf4"
   },
   "outputs": [],
   "source": [
    "model = Encoder_decoder(encoder_inputs_length=max_len,decoder_inputs_length=max_len_dec,output_vocab_size= vocab_size, batch_size=16, score_fun='concat')"
   ]
  },
  {
   "cell_type": "code",
   "execution_count": 20,
   "metadata": {
    "colab": {
     "base_uri": "https://localhost:8080/"
    },
    "executionInfo": {
     "elapsed": 5699,
     "status": "ok",
     "timestamp": 1621336654434,
     "user": {
      "displayName": "Deepu S",
      "photoUrl": "https://lh3.googleusercontent.com/a-/AOh14GhA3jWBdgJvxz0fRJHDdC-2zr5r_I2FAAyJ57Yw81s=s64",
      "userId": "08960752430539190859"
     },
     "user_tz": -330
    },
    "id": "o5UAGbAcN9ex",
    "outputId": "4a0dee82-29de-4a98-e4eb-a2076f68e1d0"
   },
   "outputs": [
    {
     "data": {
      "text/plain": [
       "<tensorflow.python.training.tracking.util.CheckpointLoadStatus at 0x7fa26b9e4ed0>"
      ]
     },
     "execution_count": 20,
     "metadata": {
      "tags": []
     },
     "output_type": "execute_result"
    }
   ],
   "source": [
    "model.load_weights('weights3')"
   ]
  },
  {
   "cell_type": "markdown",
   "metadata": {
    "id": "ndc7KyJ4PUVO"
   },
   "source": [
    "### predict"
   ]
  },
  {
   "cell_type": "code",
   "execution_count": 21,
   "metadata": {
    "executionInfo": {
     "elapsed": 1434,
     "status": "ok",
     "timestamp": 1621336657657,
     "user": {
      "displayName": "Deepu S",
      "photoUrl": "https://lh3.googleusercontent.com/a-/AOh14GhA3jWBdgJvxz0fRJHDdC-2zr5r_I2FAAyJ57Yw81s=s64",
      "userId": "08960752430539190859"
     },
     "user_tz": -330
    },
    "id": "d9Lkc0xpOOV-"
   },
   "outputs": [],
   "source": [
    "def predict(input_sentence):\n",
    "\n",
    "  input_sequence=tokenizer.texts_to_sequences([input_sentence])\n",
    "  inputs=pad_sequences(input_sequence, maxlen=max_len, padding='post')\n",
    "  inputs=tf.convert_to_tensor(inputs)\n",
    "  result=''\n",
    "  units=128\n",
    "  hidden=[tf.zeros((1,units))]\n",
    "  encoder_output,hidden_state,cell_state=model.layers[0](inputs,hidden)\n",
    "  dec_hidden=hidden_state\n",
    "  dec_input=tf.expand_dims([tokenizer.word_index['<start>']],0)\n",
    "  for t in range(202):\n",
    "      predictions,dec_hidden,cell_state,attention_weights,context_vector=model.layers[1].onestepdecoder(dec_input,encoder_output,dec_hidden,cell_state)\n",
    "\n",
    "      predicted_id=tf.argmax(predictions[0]).numpy()\n",
    "      result+=tokenizer.index_word[predicted_id]+' '\n",
    "      if tokenizer.word_index['<end>']==predicted_id :\n",
    "          return result\n",
    "      dec_input= tf.expand_dims([predicted_id],0)\n",
    "  return result"
   ]
  },
  {
   "cell_type": "markdown",
   "metadata": {
    "id": "UyukUJ7mkeLf"
   },
   "source": [
    "# Division of Data based on BLEU Scores"
   ]
  },
  {
   "cell_type": "markdown",
   "metadata": {
    "id": "M81FXTnw92At"
   },
   "source": [
    "## Validation data"
   ]
  },
  {
   "cell_type": "code",
   "execution_count": 65,
   "metadata": {
    "colab": {
     "base_uri": "https://localhost:8080/"
    },
    "executionInfo": {
     "elapsed": 41237,
     "status": "ok",
     "timestamp": 1621340480287,
     "user": {
      "displayName": "Deepu S",
      "photoUrl": "https://lh3.googleusercontent.com/a-/AOh14GhA3jWBdgJvxz0fRJHDdC-2zr5r_I2FAAyJ57Yw81s=s64",
      "userId": "08960752430539190859"
     },
     "user_tz": -330
    },
    "id": "BFdWzk04k7KK",
    "outputId": "945bfc8a-8af1-4b09-cd04-c5b098d336e9"
   },
   "outputs": [
    {
     "name": "stderr",
     "output_type": "stream",
     "text": [
      "/usr/local/lib/python3.7/dist-packages/nltk/translate/bleu_score.py:490: UserWarning: \n",
      "Corpus/Sentence contains 0 counts of 2-gram overlaps.\n",
      "BLEU scores might be undesirable; use SmoothingFunction().\n",
      "  warnings.warn(_msg)\n"
     ]
    }
   ],
   "source": [
    "#Calculating Bleu Sccore\n",
    "import nltk.translate.bleu_score as bleu\n",
    "bleu_score1=[]\n",
    "for i in range(0,200):\n",
    "  decoded_sent=predict(val.Source.values[i])\n",
    "  bleu_score1.append(bleu.sentence_bleu(val.Target_out.values[i], decoded_sent))"
   ]
  },
  {
   "cell_type": "code",
   "execution_count": 66,
   "metadata": {
    "colab": {
     "base_uri": "https://localhost:8080/"
    },
    "executionInfo": {
     "elapsed": 1673,
     "status": "ok",
     "timestamp": 1621340486431,
     "user": {
      "displayName": "Deepu S",
      "photoUrl": "https://lh3.googleusercontent.com/a-/AOh14GhA3jWBdgJvxz0fRJHDdC-2zr5r_I2FAAyJ57Yw81s=s64",
      "userId": "08960752430539190859"
     },
     "user_tz": -330
    },
    "id": "mn-zbrR9N-QB",
    "outputId": "55d4c1e5-b50e-460a-b47c-17ec72e6b5b0"
   },
   "outputs": [
    {
     "data": {
      "text/plain": [
       "0.7384674872294625"
      ]
     },
     "execution_count": 66,
     "metadata": {
      "tags": []
     },
     "output_type": "execute_result"
    }
   ],
   "source": [
    "avg_bleu_score=sum(bleu_score1)/len(bleu_score1)\n",
    "avg_bleu_score"
   ]
  },
  {
   "cell_type": "markdown",
   "metadata": {
    "id": "S3KhBfip_doq"
   },
   "source": [
    "Classifying the data based on the BLEU Score"
   ]
  },
  {
   "cell_type": "code",
   "execution_count": 67,
   "metadata": {
    "executionInfo": {
     "elapsed": 1447,
     "status": "ok",
     "timestamp": 1621340503241,
     "user": {
      "displayName": "Deepu S",
      "photoUrl": "https://lh3.googleusercontent.com/a-/AOh14GhA3jWBdgJvxz0fRJHDdC-2zr5r_I2FAAyJ57Yw81s=s64",
      "userId": "08960752430539190859"
     },
     "user_tz": -330
    },
    "id": "uX4SICAkkmuW"
   },
   "outputs": [],
   "source": [
    "best=[]\n",
    "medium=[]\n",
    "poor=[]\n",
    "for i in range(len(bleu_score1)):\n",
    "    if bleu_score1[i] >= 0.9:\n",
    "        best.append(tr.Source.values[i])\n",
    "    elif 0.7 < bleu_score1[i] < 0.9:\n",
    "        medium.append(tr.Source.values[i])\n",
    "    else:\n",
    "        poor.append(tr.Source.values[i])"
   ]
  },
  {
   "cell_type": "code",
   "execution_count": 68,
   "metadata": {
    "colab": {
     "base_uri": "https://localhost:8080/"
    },
    "executionInfo": {
     "elapsed": 1129,
     "status": "ok",
     "timestamp": 1621340504887,
     "user": {
      "displayName": "Deepu S",
      "photoUrl": "https://lh3.googleusercontent.com/a-/AOh14GhA3jWBdgJvxz0fRJHDdC-2zr5r_I2FAAyJ57Yw81s=s64",
      "userId": "08960752430539190859"
     },
     "user_tz": -330
    },
    "id": "0EHRknCullty",
    "outputId": "2d387e3b-0995-4a15-88a3-219d41850b55"
   },
   "outputs": [
    {
     "data": {
      "text/plain": [
       "(6, 132, 62)"
      ]
     },
     "execution_count": 68,
     "metadata": {
      "tags": []
     },
     "output_type": "execute_result"
    }
   ],
   "source": [
    "len(best),len(medium),len(poor)"
   ]
  },
  {
   "cell_type": "markdown",
   "metadata": {
    "id": "mpQHKNNy_sdo"
   },
   "source": [
    "* No. of phrases with best BLEU Score are 6.\n",
    "\n",
    "* No. of phrases with BLEU Score between 0.7 to 0.9 are 132.\n",
    "\n",
    "* No. of phrases with BLEU Score less than 0.7 are 62.\n",
    "\n"
   ]
  },
  {
   "cell_type": "code",
   "execution_count": 69,
   "metadata": {
    "executionInfo": {
     "elapsed": 1378,
     "status": "ok",
     "timestamp": 1621340556840,
     "user": {
      "displayName": "Deepu S",
      "photoUrl": "https://lh3.googleusercontent.com/a-/AOh14GhA3jWBdgJvxz0fRJHDdC-2zr5r_I2FAAyJ57Yw81s=s64",
      "userId": "08960752430539190859"
     },
     "user_tz": -330
    },
    "id": "RY_IKrvJa3vD"
   },
   "outputs": [],
   "source": [
    "s=[]\n",
    "for i in range(len(bleu_score1)):\n",
    "    if bleu_score1[i] >= 0.9:\n",
    "        s.append([val.Source.values[i], predict(val.Source.values[i]), val.Target_out.values[i]])"
   ]
  },
  {
   "cell_type": "code",
   "execution_count": 71,
   "metadata": {
    "colab": {
     "base_uri": "https://localhost:8080/"
    },
    "executionInfo": {
     "elapsed": 1414,
     "status": "ok",
     "timestamp": 1621340626831,
     "user": {
      "displayName": "Deepu S",
      "photoUrl": "https://lh3.googleusercontent.com/a-/AOh14GhA3jWBdgJvxz0fRJHDdC-2zr5r_I2FAAyJ57Yw81s=s64",
      "userId": "08960752430539190859"
     },
     "user_tz": -330
    },
    "id": "LnWxaoRd5qdu",
    "outputId": "43b1ecfb-c171-44bb-84fc-ef653a3b3017"
   },
   "outputs": [
    {
     "name": "stdout",
     "output_type": "stream",
     "text": [
      "Source Sentence:  What is mb\n",
      "predicted Sentence:  Is it <end> \n",
      "Target Sentence:  What is mb? <end>\n",
      "---------------------------------------------\n",
      "Source Sentence:  Congrats. Study hard.\n",
      "predicted Sentence:  Nothing is <end> \n",
      "Target Sentence:  Congratulations. Study hard. <end>\n",
      "---------------------------------------------\n",
      "Source Sentence:  go\n",
      "predicted Sentence:  Go <end> \n",
      "Target Sentence:  Go. <end>\n",
      "---------------------------------------------\n",
      "Source Sentence:  No no leh.\n",
      "predicted Sentence:  No no <end> \n",
      "Target Sentence:  No no. <end>\n",
      "---------------------------------------------\n",
      "Source Sentence:  U at marina?\n",
      "predicted Sentence:  You at at <end> \n",
      "Target Sentence:  You are at Marina? <end>\n",
      "---------------------------------------------\n"
     ]
    }
   ],
   "source": [
    "for i in range(0,5):\n",
    "    print('Source Sentence: ',s[i][0])\n",
    "    print('predicted Sentence: ',s[i][1])\n",
    "    print('Target Sentence: ',s[i][2] )\n",
    "    print('---------------------------------------------')"
   ]
  },
  {
   "cell_type": "markdown",
   "metadata": {
    "id": "lf-Y6eUNAgUC"
   },
   "source": [
    "The above sentences have Best BLEU Score "
   ]
  },
  {
   "cell_type": "code",
   "execution_count": 74,
   "metadata": {
    "colab": {
     "base_uri": "https://localhost:8080/"
    },
    "executionInfo": {
     "elapsed": 1482,
     "status": "ok",
     "timestamp": 1621340711310,
     "user": {
      "displayName": "Deepu S",
      "photoUrl": "https://lh3.googleusercontent.com/a-/AOh14GhA3jWBdgJvxz0fRJHDdC-2zr5r_I2FAAyJ57Yw81s=s64",
      "userId": "08960752430539190859"
     },
     "user_tz": -330
    },
    "id": "st4I00LSOnZr",
    "outputId": "207254f8-1e3a-46ef-a977-d87893a27859"
   },
   "outputs": [
    {
     "name": "stdout",
     "output_type": "stream",
     "text": [
      "Source Sentence:  i'll be late...will call u\n",
      "predicted Sentence:  Maybe will working soon Take you <end> \n",
      "Target Sentence:  I'll be late. I will call you. <end>\n",
      "---------------------------------------------\n",
      "Source Sentence:  Thx 4 turning up. Hope u had a gd time. I had u\n",
      "predicted Sentence:  Tomorrow at home up Ron you you I a a more Then I <end> \n",
      "Target Sentence:  Thanks for turning up. Hope you had a good time. I had you. <end>\n",
      "---------------------------------------------\n",
      "Source Sentence:  Den where is e nearest mrt station tt u can meet me?\n",
      "predicted Sentence:  That is is the the 1 30 30 pm You you you <end> \n",
      "Target Sentence:  Then where is the nearest MRT station that you can meet me? <end>\n",
      "---------------------------------------------\n",
      "Source Sentence:  good afternoon,my dear friend!how have u been?\n",
      "predicted Sentence:  Must an my friend yesterday if they you you <end> \n",
      "Target Sentence:  Good afternoon, my dear friend! How have you been? <end>\n",
      "---------------------------------------------\n",
      "Source Sentence:  Do u hav to be so fierce...\n",
      "predicted Sentence:  Do you you I will to <end> \n",
      "Target Sentence:  Do you have to be so fierce? <end>\n",
      "---------------------------------------------\n"
     ]
    }
   ],
   "source": [
    "a=[]\n",
    "for i in range(len(bleu_score1)):\n",
    "    if 0.7 < bleu_score1[i] < 0.9:\n",
    "        a.append([val.Source.values[i], predict(val.Source.values[i]), val.Target_out.values[i]])\n",
    "for i in range(0,5):\n",
    "    print('Source Sentence: ',a[i][0])\n",
    "    print('predicted Sentence: ',a[i][1])\n",
    "    print('Target Sentence: ',a[i][2] )\n",
    "    print('---------------------------------------------')"
   ]
  },
  {
   "cell_type": "markdown",
   "metadata": {
    "id": "HNS-nBJRB8C_"
   },
   "source": [
    "These phrases have BLEU sccore of 0.7 to 0.9."
   ]
  },
  {
   "cell_type": "code",
   "execution_count": 44,
   "metadata": {
    "colab": {
     "base_uri": "https://localhost:8080/"
    },
    "executionInfo": {
     "elapsed": 2521,
     "status": "ok",
     "timestamp": 1621337602998,
     "user": {
      "displayName": "Deepu S",
      "photoUrl": "https://lh3.googleusercontent.com/a-/AOh14GhA3jWBdgJvxz0fRJHDdC-2zr5r_I2FAAyJ57Yw81s=s64",
      "userId": "08960752430539190859"
     },
     "user_tz": -330
    },
    "id": "BAJdBC-VQD6V",
    "outputId": "2d396177-4d79-4590-eaaf-ce00481e8da0"
   },
   "outputs": [
    {
     "name": "stdout",
     "output_type": "stream",
     "text": [
      "Source Sentence:  Should b. If u wan u got 2 send in ur resume 2 e agency n think tomw got a 1hr product training. How u wan?\n",
      "predicted Sentence:  Sigh and if you you you two before and even a a big down and and and Ben I've a a drink also cheaper Or you <end> \n",
      "Target Sentence:  Should be. If you want, you got to send in your resume to the agency and think tomorrow got a one hour product training. How you want? <end>\n",
      "---------------------------------------------\n",
      "Source Sentence:  Nope,Nothing special recently... More or less juz stayed at home n watch tv at night. I enjoy the channel u show at 9 pm.... Had yr lunch yet?\n",
      "predicted Sentence:  Oh Maybe never lectures place and and got got got got got outside and I haven't a big I haven't chance at 4 30 30 pm guess haven't real start <end> \n",
      "Target Sentence:  Nope, nothing special recently. More or less just stayed at home and watched TV at night. I enjoy the Channel U show at 9 pm. Had your lunch yet? <end>\n",
      "---------------------------------------------\n",
      "Source Sentence:  I jus managed to get hold of my charger.. phone died on me for e past one n a half day.. But i dun wan to cut until very short wan noe..?\n",
      "predicted Sentence:  I am got got to eat trim more my work just just just a to and the today and But I will I will want to to look also also more good <end> \n",
      "Target Sentence:  I just managed to get hold of my charger. Phone died on me for the past one and a half day. But i don't want to cut until very short do you know? <end>\n",
      "---------------------------------------------\n",
      "Source Sentence:  haha, dun worry, i started studyin few days ago.. sure can do! ;) i only smoke my tests and presentation, NOTHING else. dun think too much. U\n",
      "predicted Sentence:  Haha never never I didn't had lots lots very very very very Because my handphone forgot Hmm Ben Ben Ben got got got got always always <end> \n",
      "Target Sentence:  Haha, don't worry, I started studying few days ago. Sure can do! I only smoke my tests and presentation, nothing else. Don't think too much. You? <end>\n",
      "---------------------------------------------\n",
      "Source Sentence:  Okay... YES. both of my parents will mind. Very very obvious. No need sun can see that kind\n",
      "predicted Sentence:  Yeah didn't has Both my just got got been very very No no need haven't did they they <end> \n",
      "Target Sentence:  Okay. Yes. Both of my parents will mind. Very very obvious. No need sun can see that kind. <end>\n",
      "---------------------------------------------\n"
     ]
    }
   ],
   "source": [
    "d=[]\n",
    "for i in range(len(bleu_score1)):\n",
    "    if bleu_score1[i] < 0.7:\n",
    "        d.append([val.Source.values[i], predict(val.Source.values[i]), val.Target_out.values[i]])\n",
    "for i in range(0,5):\n",
    "    print('Source Sentence: ',d[i][0])\n",
    "    print('predicted Sentence: ',d[i][0])\n",
    "    print('Target Sentence: ',d[i][2] )\n",
    "    print('---------------------------------------------')"
   ]
  },
  {
   "cell_type": "markdown",
   "metadata": {
    "id": "w_nrq0d5CCTA"
   },
   "source": [
    "These phrases have BLEU sccore less than 0.7."
   ]
  },
  {
   "cell_type": "markdown",
   "metadata": {
    "id": "zrpsWuoWFS8V"
   },
   "source": [
    "We perform some analysis to identify characterstics leading to good and poor scores."
   ]
  },
  {
   "cell_type": "markdown",
   "metadata": {
    "id": "q8xkN4A5lehH"
   },
   "source": [
    "### Histogram of lengths of phrases"
   ]
  },
  {
   "cell_type": "code",
   "execution_count": null,
   "metadata": {
    "colab": {
     "base_uri": "https://localhost:8080/",
     "height": 383
    },
    "executionInfo": {
     "elapsed": 1960,
     "status": "ok",
     "timestamp": 1621260816524,
     "user": {
      "displayName": "Deepu S",
      "photoUrl": "https://lh3.googleusercontent.com/a-/AOh14GhA3jWBdgJvxz0fRJHDdC-2zr5r_I2FAAyJ57Yw81s=s64",
      "userId": "08960752430539190859"
     },
     "user_tz": -330
    },
    "id": "sNmUkNaen4O9",
    "outputId": "aa950c2c-71b7-4be2-f0cc-62a855e357f6"
   },
   "outputs": [
    {
     "name": "stderr",
     "output_type": "stream",
     "text": [
      "/usr/local/lib/python3.7/dist-packages/seaborn/distributions.py:2557: FutureWarning: `distplot` is a deprecated function and will be removed in a future version. Please adapt your code to use either `displot` (a figure-level function with similar flexibility) or `histplot` (an axes-level function for histograms).\n",
      "  warnings.warn(msg, FutureWarning)\n"
     ]
    },
    {
     "data": {
      "image/png": "[encoded data removed]",
      "text/plain": [
       "<Figure size 1440x360 with 3 Axes>"
      ]
     },
     "metadata": {
      "tags": []
     },
     "output_type": "display_data"
    }
   ],
   "source": [
    "sns.set(rc={\"figure.figsize\": (20,5)})\n",
    "\n",
    "subplot(1,3,1)\n",
    "b=pd.DataFrame(best,columns=['best'])\n",
    "Source_words = b['best'].str.split().apply(len)\n",
    "ax = sns.set_style('whitegrid')\n",
    "ax = sns.distplot(Source_words,kde=False, axlabel='No. of words in Phrases having Best BLEU Score')\n",
    "\n",
    "subplot(1,3,2)\n",
    "m=pd.DataFrame(medium,columns=['medium'])\n",
    "Source_words = m['medium'].str.split().apply(len)\n",
    "ax = sns.set_style('whitegrid')\n",
    "ax = sns.distplot(Source_words,kde=False, axlabel='No. of words in Phrases having Medium BLEU Score')\n",
    "\n",
    "subplot(1,3,3)\n",
    "p=pd.DataFrame(poor,columns=['poor'])\n",
    "Source_words = p['poor'].str.split().apply(len)\n",
    "ax = sns.set_style('whitegrid')\n",
    "ax = sns.distplot(Source_words,kde=False, axlabel='No. of words in Phrases having Poor BLEU Score')\n",
    "\n",
    "\n",
    "plt.show()"
   ]
  },
  {
   "cell_type": "markdown",
   "metadata": {
    "id": "KrKvME2cCsVw"
   },
   "source": [
    "**Observations:**\n",
    "\n",
    "* The number of words in many phrases having best bleu score(>0.9) are around 5 to 8... Which means the phrases with less words are predicted well by the model.\n",
    "* Phrases with more words have medium to less bleu score. "
   ]
  },
  {
   "cell_type": "markdown",
   "metadata": {
    "id": "4b7cgQEtqm7G"
   },
   "source": [
    "### Histogram of length of Sentences"
   ]
  },
  {
   "cell_type": "code",
   "execution_count": null,
   "metadata": {
    "colab": {
     "base_uri": "https://localhost:8080/",
     "height": 392
    },
    "executionInfo": {
     "elapsed": 2523,
     "status": "ok",
     "timestamp": 1621260820321,
     "user": {
      "displayName": "Deepu S",
      "photoUrl": "https://lh3.googleusercontent.com/a-/AOh14GhA3jWBdgJvxz0fRJHDdC-2zr5r_I2FAAyJ57Yw81s=s64",
      "userId": "08960752430539190859"
     },
     "user_tz": -330
    },
    "id": "2FsXwFb7qr8w",
    "outputId": "3f68a580-af40-4d8f-ffe8-42b73bc7bc62"
   },
   "outputs": [
    {
     "name": "stderr",
     "output_type": "stream",
     "text": [
      "/usr/local/lib/python3.7/dist-packages/seaborn/distributions.py:2557: FutureWarning: `distplot` is a deprecated function and will be removed in a future version. Please adapt your code to use either `displot` (a figure-level function with similar flexibility) or `histplot` (an axes-level function for histograms).\n",
      "  warnings.warn(msg, FutureWarning)\n"
     ]
    },
    {
     "data": {
      "image/png": "[encoded data removed]",
      "text/plain": [
       "<Figure size 1440x360 with 3 Axes>"
      ]
     },
     "metadata": {
      "tags": []
     },
     "output_type": "display_data"
    }
   ],
   "source": [
    "sns.set(rc={\"figure.figsize\": (20,5)})\n",
    "\n",
    "subplot(1,3,1)\n",
    "b=pd.DataFrame(best,columns=['best'])\n",
    "Source_words = b['best'].apply(len)\n",
    "ax = sns.set_style('whitegrid')\n",
    "ax = sns.distplot(Source_words,kde=False, axlabel='Length of Phrases having Best BLEU Score')\n",
    "\n",
    "subplot(1,3,2)\n",
    "m=pd.DataFrame(medium,columns=['medium'])\n",
    "Source_words = m['medium'].apply(len)\n",
    "ax = sns.set_style('whitegrid')\n",
    "ax = sns.distplot(Source_words,kde=False, axlabel='Length of Phrases having Medium BLEU Score')\n",
    "\n",
    "subplot(1,3,3)\n",
    "p=pd.DataFrame(poor,columns=['poor'])\n",
    "Source_words = p['poor'].apply(len)\n",
    "ax = sns.set_style('whitegrid')\n",
    "ax = sns.distplot(Source_words,kde=False, axlabel='Length of Phrases having Poor BLEU Score')\n",
    "\n",
    "\n",
    "plt.show()"
   ]
  },
  {
   "cell_type": "markdown",
   "metadata": {
    "id": "Iwnoa0-xEFAi"
   },
   "source": [
    "**Observations:**\n",
    "* The length is less for the well predicted phrases."
   ]
  },
  {
   "cell_type": "markdown",
   "metadata": {
    "id": "49EWsMukotF6"
   },
   "source": [
    "### Histogram of punctuations"
   ]
  },
  {
   "cell_type": "code",
   "execution_count": null,
   "metadata": {
    "id": "eN-U053No0Dx"
   },
   "outputs": [],
   "source": [
    "punc=['!', '\"', '#', '$', '%', '&', \"'\", '(', ')', '*', '+', ',', '-', '/', ':', ';', '<', '=', '>', '?', '@', '[', '\\\\', ']', '^', '_', '`', '{', '|', '}', '~', '\\t', '\\n', '\\r', '\\x0b', '\\x0c']"
   ]
  },
  {
   "cell_type": "code",
   "execution_count": null,
   "metadata": {
    "id": "fLHRD1e8xpNL"
   },
   "outputs": [],
   "source": [
    "def count_punc(c):\n",
    "    lengt=[]\n",
    "    for i in range(b.shape[0]):\n",
    "        count=0\n",
    "        for j in c[i]:\n",
    "            for k in punc:\n",
    "                if j==k:\n",
    "                    count+=1\n",
    "        lengt.append(count)\n",
    "    return pd.Series(lengt)"
   ]
  },
  {
   "cell_type": "code",
   "execution_count": null,
   "metadata": {
    "colab": {
     "base_uri": "https://localhost:8080/",
     "height": 381
    },
    "executionInfo": {
     "elapsed": 2391,
     "status": "ok",
     "timestamp": 1621264586530,
     "user": {
      "displayName": "Deepu S",
      "photoUrl": "https://lh3.googleusercontent.com/a-/AOh14GhA3jWBdgJvxz0fRJHDdC-2zr5r_I2FAAyJ57Yw81s=s64",
      "userId": "08960752430539190859"
     },
     "user_tz": -330
    },
    "id": "9c3oddvD45W_",
    "outputId": "cfe939a9-ecdf-4384-994e-1f2f9036a79e"
   },
   "outputs": [
    {
     "name": "stderr",
     "output_type": "stream",
     "text": [
      "/usr/local/lib/python3.7/dist-packages/seaborn/distributions.py:2557: FutureWarning: `distplot` is a deprecated function and will be removed in a future version. Please adapt your code to use either `displot` (a figure-level function with similar flexibility) or `histplot` (an axes-level function for histograms).\n",
      "  warnings.warn(msg, FutureWarning)\n"
     ]
    },
    {
     "data": {
      "image/png": "[encoded data removed]",
      "text/plain": [
       "<Figure size 1440x360 with 3 Axes>"
      ]
     },
     "metadata": {
      "tags": []
     },
     "output_type": "display_data"
    }
   ],
   "source": [
    "sns.set(rc={\"figure.figsize\": (20,5)})\n",
    "\n",
    "subplot(1,3,1)\n",
    "b=pd.DataFrame(best,columns=['best'])\n",
    "Count = count_punc(b['best'])\n",
    "ax = sns.set_style('whitegrid')\n",
    "ax = sns.distplot(Count,kde=False, axlabel='No.of punctuations in Phrases having Best BLEU Score')\n",
    "\n",
    "subplot(1,3,2)\n",
    "m=pd.DataFrame(medium,columns=['medium'])\n",
    "Count = count_punc(m['medium'])\n",
    "ax = sns.set_style('whitegrid')\n",
    "ax = sns.distplot(Count,kde=False, axlabel='No.of punctuations in Phrases having Medium BLEU Score')\n",
    "\n",
    "subplot(1,3,3)\n",
    "p=pd.DataFrame(poor,columns=['poor'])\n",
    "Count= count_punc(p['poor'])\n",
    "ax = sns.set_style('whitegrid')\n",
    "ax = sns.distplot(Count, kde=False, axlabel='No.of punctuations in Phrases having Poor BLEU Score')\n",
    "\n",
    "\n",
    "plt.show()"
   ]
  },
  {
   "cell_type": "markdown",
   "metadata": {
    "id": "DT0MYF0hEZPA"
   },
   "source": [
    "**Observations:**\n",
    "* The number of punctuation marks are less than or equal to 2 in phrases having 0.9 or above score."
   ]
  },
  {
   "cell_type": "markdown",
   "metadata": {
    "id": "-3m0tihiEpvC"
   },
   "source": [
    "## Train data"
   ]
  },
  {
   "cell_type": "markdown",
   "metadata": {
    "id": "AyDcE8FyGNc4"
   },
   "source": [
    "Similar Analysis can be performed on Train data."
   ]
  },
  {
   "cell_type": "code",
   "execution_count": 45,
   "metadata": {
    "colab": {
     "base_uri": "https://localhost:8080/"
    },
    "executionInfo": {
     "elapsed": 358205,
     "status": "ok",
     "timestamp": 1621338031738,
     "user": {
      "displayName": "Deepu S",
      "photoUrl": "https://lh3.googleusercontent.com/a-/AOh14GhA3jWBdgJvxz0fRJHDdC-2zr5r_I2FAAyJ57Yw81s=s64",
      "userId": "08960752430539190859"
     },
     "user_tz": -330
    },
    "id": "0XeHkfGyE1yi",
    "outputId": "d2f09ecc-50b1-49c9-b53b-54f83273bc49"
   },
   "outputs": [
    {
     "name": "stderr",
     "output_type": "stream",
     "text": [
      "/usr/local/lib/python3.7/dist-packages/nltk/translate/bleu_score.py:490: UserWarning: \n",
      "Corpus/Sentence contains 0 counts of 2-gram overlaps.\n",
      "BLEU scores might be undesirable; use SmoothingFunction().\n",
      "  warnings.warn(_msg)\n"
     ]
    }
   ],
   "source": [
    "import nltk.translate.bleu_score as bleu\n",
    "bleu_score=[]\n",
    "for i in range(tr.shape[0]):\n",
    "  decoded_sent=predict(tr.Source.values[i])\n",
    "  bleu_score.append(bleu.sentence_bleu(tr.Target_out.values[i], decoded_sent))"
   ]
  },
  {
   "cell_type": "code",
   "execution_count": 46,
   "metadata": {
    "executionInfo": {
     "elapsed": 1676,
     "status": "ok",
     "timestamp": 1621338051371,
     "user": {
      "displayName": "Deepu S",
      "photoUrl": "https://lh3.googleusercontent.com/a-/AOh14GhA3jWBdgJvxz0fRJHDdC-2zr5r_I2FAAyJ57Yw81s=s64",
      "userId": "08960752430539190859"
     },
     "user_tz": -330
    },
    "id": "q2g9YzP7E1yp"
   },
   "outputs": [],
   "source": [
    "best=[]\n",
    "medium=[]\n",
    "poor=[]\n",
    "for i in range(len(bleu_score)):\n",
    "    if bleu_score[i] >= 0.9:\n",
    "        best.append(tr.Source.values[i])\n",
    "    elif 0.7 < bleu_score[i] < 0.9:\n",
    "        medium.append(tr.Source.values[i])\n",
    "    else:\n",
    "        poor.append(tr.Source.values[i])"
   ]
  },
  {
   "cell_type": "code",
   "execution_count": 47,
   "metadata": {
    "colab": {
     "base_uri": "https://localhost:8080/"
    },
    "executionInfo": {
     "elapsed": 2039,
     "status": "ok",
     "timestamp": 1621338072516,
     "user": {
      "displayName": "Deepu S",
      "photoUrl": "https://lh3.googleusercontent.com/a-/AOh14GhA3jWBdgJvxz0fRJHDdC-2zr5r_I2FAAyJ57Yw81s=s64",
      "userId": "08960752430539190859"
     },
     "user_tz": -330
    },
    "id": "8tg90QiIR1pP",
    "outputId": "745c0d13-a91c-4e1e-f62e-2b7ac4315ebe"
   },
   "outputs": [
    {
     "data": {
      "text/plain": [
       "(46, 1132, 615)"
      ]
     },
     "execution_count": 47,
     "metadata": {
      "tags": []
     },
     "output_type": "execute_result"
    }
   ],
   "source": [
    "len(best),len(medium),len(poor)"
   ]
  },
  {
   "cell_type": "markdown",
   "metadata": {
    "id": "Auf2IDVrUjtz"
   },
   "source": [
    "* No. of phrases with best BLEU Score are 46.\n",
    "\n",
    "* No. of phrases with BLEU Score between 0.7 to 0.9 are 1132.\n",
    "\n",
    "* No. of phrases with BLEU Score less than 0.7 are 615.\n",
    "\n"
   ]
  },
  {
   "cell_type": "code",
   "execution_count": 55,
   "metadata": {
    "colab": {
     "base_uri": "https://localhost:8080/"
    },
    "executionInfo": {
     "elapsed": 1119,
     "status": "ok",
     "timestamp": 1621339663881,
     "user": {
      "displayName": "Deepu S",
      "photoUrl": "https://lh3.googleusercontent.com/a-/AOh14GhA3jWBdgJvxz0fRJHDdC-2zr5r_I2FAAyJ57Yw81s=s64",
      "userId": "08960752430539190859"
     },
     "user_tz": -330
    },
    "id": "ibrWxKsRWOby",
    "outputId": "2eda72d4-f565-4ac7-8a4b-432b7e7a2082"
   },
   "outputs": [
    {
     "name": "stdout",
     "output_type": "stream",
     "text": [
      "Source Sentence:  Hey YUI\n",
      "predicted Sentence:  Hey <end> \n",
      "Target Sentence:  Hey, Yui. <end>\n",
      "---------------------------------------------\n",
      "Source Sentence:  3:20 reached\n",
      "predicted Sentence:  3 2 am <end> \n",
      "Target Sentence:  3:20 reached. <end>\n",
      "---------------------------------------------\n",
      "Source Sentence:  230\n",
      "predicted Sentence:  230 <end> \n",
      "Target Sentence:  230 <end>\n",
      "---------------------------------------------\n",
      "Source Sentence:  Okie\n",
      "predicted Sentence:  Ok <end> \n",
      "Target Sentence:  Ok. <end>\n",
      "---------------------------------------------\n",
      "Source Sentence:  ok!\n",
      "predicted Sentence:  Ok <end> \n",
      "Target Sentence:  Ok! <end>\n",
      "---------------------------------------------\n"
     ]
    }
   ],
   "source": [
    "s=[]\n",
    "for i in range(len(bleu_score)):\n",
    "    if bleu_score[i] >= 0.9:\n",
    "        s.append([tr.Source.values[i], predict(tr.Source.values[i]), tr.Target_out.values[i]])\n",
    "for i in range(0,5):\n",
    "    print('Source Sentence: ',s[i][0])\n",
    "    print('predicted Sentence: ',s[i][1])\n",
    "    print('Target Sentence: ',s[i][2] )\n",
    "    print('---------------------------------------------')"
   ]
  },
  {
   "cell_type": "markdown",
   "metadata": {
    "id": "nI0b70AIUjt7"
   },
   "source": [
    "The above sentences have Best BLEU Score "
   ]
  },
  {
   "cell_type": "code",
   "execution_count": 61,
   "metadata": {
    "colab": {
     "base_uri": "https://localhost:8080/"
    },
    "executionInfo": {
     "elapsed": 1500,
     "status": "ok",
     "timestamp": 1621340010262,
     "user": {
      "displayName": "Deepu S",
      "photoUrl": "https://lh3.googleusercontent.com/a-/AOh14GhA3jWBdgJvxz0fRJHDdC-2zr5r_I2FAAyJ57Yw81s=s64",
      "userId": "08960752430539190859"
     },
     "user_tz": -330
    },
    "id": "4tvDXaaIUjt7",
    "outputId": "f1819a44-0f4a-4537-840f-1c4be19b6a27"
   },
   "outputs": [
    {
     "name": "stdout",
     "output_type": "stream",
     "text": [
      "Source Sentence:  Joey: Yup,where u fr?\n",
      "predicted Sentence:  Joey Yes what you you <end> \n",
      "Target Sentence:  Joey: Yes, where are you from? <end>\n",
      "---------------------------------------------\n",
      "Source Sentence:  Thanks... You went bangkok? Got buy anything for me... Hee hee... Today you no school?\n",
      "predicted Sentence:  Have you you just watching Sigh Don't asks me me and Ben else it is not <end> \n",
      "Target Sentence:  Thanks. You went to Bangkok? Got buy anything for me? Giggle. Today you have no school? <end>\n",
      "---------------------------------------------\n",
      "Source Sentence:  tt guy who is slightly taller than me tt time u saw me..\n",
      "predicted Sentence:  That That is is slightly fine And and me and did you me <end> \n",
      "Target Sentence:  That guy who is slightly taller than me, that time you saw me. <end>\n",
      "---------------------------------------------\n",
      "Source Sentence:  Eh wanna come out for dinner? Me and deckie in suntec\n",
      "predicted Sentence:  Ok Maybe have have back some with right and in in <end> \n",
      "Target Sentence:  Er, do you want to come out for dinner? Me and Deckie are in Suntec. <end>\n",
      "---------------------------------------------\n",
      "Source Sentence:  juz to make frnd wif u mah.if u wan u msg me at 99876452.\n",
      "predicted Sentence:  Just to to ask anything again you right you you me message me at at <end> \n",
      "Target Sentence:  Just to make friend with you. If you want, message me at 99876452. <end>\n",
      "---------------------------------------------\n"
     ]
    }
   ],
   "source": [
    "a=[]\n",
    "for i in range(len(bleu_score)):\n",
    "    if 0.7 < bleu_score[i] < 0.9:\n",
    "        a.append([tr.Source.values[i], predict(tr.Source.values[i]), tr.Target_out.values[i]])\n",
    "for i in range(0,5):\n",
    "    print('Source Sentence: ',a[i][0])\n",
    "    print('predicted Sentence: ',a[i][1])\n",
    "    print('Target Sentence: ',a[i][2] )\n",
    "    print('---------------------------------------------')"
   ]
  },
  {
   "cell_type": "markdown",
   "metadata": {
    "id": "8uhG98dUUjt8"
   },
   "source": [
    "These phrases have BLEU sccore of 0.7 to 0.9."
   ]
  },
  {
   "cell_type": "code",
   "execution_count": 64,
   "metadata": {
    "colab": {
     "base_uri": "https://localhost:8080/"
    },
    "executionInfo": {
     "elapsed": 1450,
     "status": "ok",
     "timestamp": 1621340333357,
     "user": {
      "displayName": "Deepu S",
      "photoUrl": "https://lh3.googleusercontent.com/a-/AOh14GhA3jWBdgJvxz0fRJHDdC-2zr5r_I2FAAyJ57Yw81s=s64",
      "userId": "08960752430539190859"
     },
     "user_tz": -330
    },
    "id": "tDR4fVpfUjt9",
    "outputId": "6806cc59-5450-499d-c7b6-d3d543019bdb"
   },
   "outputs": [
    {
     "name": "stdout",
     "output_type": "stream",
     "text": [
      "Source Sentence:  Izzit then y i got no base colour... Then mayb urs is 35 lor... Shall i get da pants dat i wanted fr u2... It's 26 now...\n",
      "predicted Sentence:  Stars That I will I just no there together together and I will ask me and and I I would bring such tonight tonight this 3 30 30 30 pm <end> \n",
      "Target Sentence:  Is it? Then why I got no base color? Then maybe yours is 35. Shall I get the pants that I wanted from U2? It's 26 now. <end>\n",
      "---------------------------------------------\n",
      "Source Sentence:  Nay, no sports car for me... gotten into lotsa accidents for my love of speed. Furthermore, it's too ex for me already. So changed to a normal car. :)\n",
      "predicted Sentence:  Ben no about tonight and me also got been got got got been no my anything light anything me and me and me also haven't to a a waitress <end> \n",
      "Target Sentence:  No, no sports car for me. I've gotten into lots of accidents for my love of speed. Furthermore, it's too expensive for me already. So I changed to a normal car. <end>\n",
      "---------------------------------------------\n",
      "Source Sentence:  Then how u wan to go early a not... Ask her to wait at bishan then ben can fetch her but she wun wake up so early...\n",
      "predicted Sentence:  Then if you I want to to eat there a very Ask me to eat just on first first But she will I got put up to also <end> \n",
      "Target Sentence:  Then how? You want to go early or not? Ask her to wait at Bishan then Ben can fetch her. But she won't wake up so early. <end>\n",
      "---------------------------------------------\n",
      "Source Sentence:  so u know wheres the photo shop in clementi? Iszit instant? U wan take or not?\n",
      "predicted Sentence:  so you you you haven't sit some lots in also well well You you haven't or <end> \n",
      "Target Sentence:  So do you know where is the photo shop in Clementi? Is it instant? Do you want to take? <end>\n",
      "---------------------------------------------\n",
      "Source Sentence:  Hey gelek! Hee enjoy ur trip tmr k! Rem ah.. Dun eat too much ah! If not u'll gain 3.5 kg! Haha no lah jus enjoy urself!\n",
      "predicted Sentence:  Hey Gelek you were lots lots project project project sweet show we are not not be reported lots for for for right Haha no like haven't care <end> \n",
      "Target Sentence:  Hey, Gelek! Enjoy your trip tomorrow okay! Remember, don't eat too much. If not you'll gain 3.5kg! Haha, no, just enjoy yourself. <end>\n",
      "---------------------------------------------\n"
     ]
    }
   ],
   "source": [
    "d=[]\n",
    "for i in range(len(bleu_score)):\n",
    "    if bleu_score[i] < 0.7:\n",
    "        d.append([tr.Source.values[i], predict(tr.Source.values[i]), tr.Target_out.values[i]])\n",
    "for i in range(0,5):\n",
    "    print('Source Sentence: ',d[i][0])\n",
    "    print('predicted Sentence: ',d[i][1])\n",
    "    print('Target Sentence: ',d[i][2] )\n",
    "    print('---------------------------------------------')"
   ]
  },
  {
   "cell_type": "markdown",
   "metadata": {
    "id": "XbaWAK7QUjt9"
   },
   "source": [
    "These phrases have BLEU sccore less than 0.7."
   ]
  },
  {
   "cell_type": "markdown",
   "metadata": {
    "id": "HVPtJxcVE1ys"
   },
   "source": [
    "### Histogram of lengths of phrases"
   ]
  },
  {
   "cell_type": "code",
   "execution_count": null,
   "metadata": {
    "colab": {
     "base_uri": "https://localhost:8080/",
     "height": 344
    },
    "executionInfo": {
     "elapsed": 2290,
     "status": "ok",
     "timestamp": 1621266530803,
     "user": {
      "displayName": "Deepu S",
      "photoUrl": "https://lh3.googleusercontent.com/a-/AOh14GhA3jWBdgJvxz0fRJHDdC-2zr5r_I2FAAyJ57Yw81s=s64",
      "userId": "08960752430539190859"
     },
     "user_tz": -330
    },
    "id": "792rpp2pE1yt",
    "outputId": "febe36b7-6bf8-4000-a680-6e975ce83832"
   },
   "outputs": [
    {
     "name": "stderr",
     "output_type": "stream",
     "text": [
      "/usr/local/lib/python3.7/dist-packages/seaborn/distributions.py:2557: FutureWarning: `distplot` is a deprecated function and will be removed in a future version. Please adapt your code to use either `displot` (a figure-level function with similar flexibility) or `histplot` (an axes-level function for histograms).\n",
      "  warnings.warn(msg, FutureWarning)\n"
     ]
    },
    {
     "data": {
      "image/png": "[encoded data removed]",
      "text/plain": [
       "<Figure size 1440x360 with 3 Axes>"
      ]
     },
     "metadata": {
      "tags": []
     },
     "output_type": "display_data"
    }
   ],
   "source": [
    "sns.set(rc={\"figure.figsize\": (20,5)})\n",
    "\n",
    "subplot(1,3,1)\n",
    "b=pd.DataFrame(best,columns=['best'])\n",
    "Source_words = b['best'].str.split().apply(len)\n",
    "ax = sns.set_style('whitegrid')\n",
    "ax = sns.distplot(Source_words,kde=False, axlabel='No. of words in Phrases having Best BLEU Score')\n",
    "\n",
    "subplot(1,3,2)\n",
    "m=pd.DataFrame(medium,columns=['medium'])\n",
    "Source_words = m['medium'].str.split().apply(len)\n",
    "ax = sns.set_style('whitegrid')\n",
    "ax = sns.distplot(Source_words,kde=False, axlabel='No. of words in Phrases having Medium BLEU Score')\n",
    "\n",
    "subplot(1,3,3)\n",
    "p=pd.DataFrame(poor,columns=['poor'])\n",
    "Source_words = p['poor'].str.split().apply(len)\n",
    "ax = sns.set_style('whitegrid')\n",
    "ax = sns.distplot(Source_words,kde=False, axlabel='No. of words in Phrases having Poor BLEU Score')\n",
    "\n",
    "\n",
    "plt.show()"
   ]
  },
  {
   "cell_type": "markdown",
   "metadata": {
    "id": "cScK3OmEE1yu"
   },
   "source": [
    "### Histogram of length of Sentences"
   ]
  },
  {
   "cell_type": "code",
   "execution_count": null,
   "metadata": {
    "colab": {
     "base_uri": "https://localhost:8080/",
     "height": 340
    },
    "executionInfo": {
     "elapsed": 2152,
     "status": "ok",
     "timestamp": 1621266536944,
     "user": {
      "displayName": "Deepu S",
      "photoUrl": "https://lh3.googleusercontent.com/a-/AOh14GhA3jWBdgJvxz0fRJHDdC-2zr5r_I2FAAyJ57Yw81s=s64",
      "userId": "08960752430539190859"
     },
     "user_tz": -330
    },
    "id": "kgfstwxME1yu",
    "outputId": "f65956c6-0be9-4a30-e1ea-1a8465f8aefe"
   },
   "outputs": [
    {
     "name": "stderr",
     "output_type": "stream",
     "text": [
      "/usr/local/lib/python3.7/dist-packages/seaborn/distributions.py:2557: FutureWarning: `distplot` is a deprecated function and will be removed in a future version. Please adapt your code to use either `displot` (a figure-level function with similar flexibility) or `histplot` (an axes-level function for histograms).\n",
      "  warnings.warn(msg, FutureWarning)\n"
     ]
    },
    {
     "data": {
      "image/png": "[encoded data removed]",
      "text/plain": [
       "<Figure size 1440x360 with 3 Axes>"
      ]
     },
     "metadata": {
      "tags": []
     },
     "output_type": "display_data"
    }
   ],
   "source": [
    "sns.set(rc={\"figure.figsize\": (20,5)})\n",
    "\n",
    "subplot(1,3,1)\n",
    "b=pd.DataFrame(best,columns=['best'])\n",
    "Source_words = b['best'].apply(len)\n",
    "ax = sns.set_style('whitegrid')\n",
    "ax = sns.distplot(Source_words,kde=False, axlabel='Length of Phrases having Best BLEU Score')\n",
    "\n",
    "subplot(1,3,2)\n",
    "m=pd.DataFrame(medium,columns=['medium'])\n",
    "Source_words = m['medium'].apply(len)\n",
    "ax = sns.set_style('whitegrid')\n",
    "ax = sns.distplot(Source_words,kde=False, axlabel='Length of Phrases having Medium BLEU Score')\n",
    "\n",
    "subplot(1,3,3)\n",
    "p=pd.DataFrame(poor,columns=['poor'])\n",
    "Source_words = p['poor'].apply(len)\n",
    "ax = sns.set_style('whitegrid')\n",
    "ax = sns.distplot(Source_words,kde=False, axlabel='Length of Phrases having Poor BLEU Score')\n",
    "\n",
    "\n",
    "plt.show()"
   ]
  },
  {
   "cell_type": "markdown",
   "metadata": {
    "id": "1U0hXz16E1yv"
   },
   "source": [
    "### Histogram of punctuations"
   ]
  },
  {
   "cell_type": "code",
   "execution_count": null,
   "metadata": {
    "colab": {
     "base_uri": "https://localhost:8080/",
     "height": 343
    },
    "executionInfo": {
     "elapsed": 2232,
     "status": "ok",
     "timestamp": 1621266543845,
     "user": {
      "displayName": "Deepu S",
      "photoUrl": "https://lh3.googleusercontent.com/a-/AOh14GhA3jWBdgJvxz0fRJHDdC-2zr5r_I2FAAyJ57Yw81s=s64",
      "userId": "08960752430539190859"
     },
     "user_tz": -330
    },
    "id": "9gVvtfh4E1yw",
    "outputId": "9996b57e-50db-474c-cb2d-a2a8c118a391"
   },
   "outputs": [
    {
     "name": "stderr",
     "output_type": "stream",
     "text": [
      "/usr/local/lib/python3.7/dist-packages/seaborn/distributions.py:2557: FutureWarning: `distplot` is a deprecated function and will be removed in a future version. Please adapt your code to use either `displot` (a figure-level function with similar flexibility) or `histplot` (an axes-level function for histograms).\n",
      "  warnings.warn(msg, FutureWarning)\n"
     ]
    },
    {
     "data": {
      "image/png": "[encoded data removed]",
      "text/plain": [
       "<Figure size 1440x360 with 3 Axes>"
      ]
     },
     "metadata": {
      "tags": []
     },
     "output_type": "display_data"
    }
   ],
   "source": [
    "sns.set(rc={\"figure.figsize\": (20,5)})\n",
    "\n",
    "subplot(1,3,1)\n",
    "b=pd.DataFrame(best,columns=['best'])\n",
    "Count = count_punc(b['best'])\n",
    "ax = sns.set_style('whitegrid')\n",
    "ax = sns.distplot(Count,kde=False, axlabel='No.of punctuations in Phrases having Best BLEU Score')\n",
    "\n",
    "subplot(1,3,2)\n",
    "m=pd.DataFrame(medium,columns=['medium'])\n",
    "Count = count_punc(m['medium'])\n",
    "ax = sns.set_style('whitegrid')\n",
    "ax = sns.distplot(Count,kde=False, axlabel='No.of punctuations in Phrases having Medium BLEU Score')\n",
    "\n",
    "subplot(1,3,3)\n",
    "p=pd.DataFrame(poor,columns=['poor'])\n",
    "Count= count_punc(p['poor'])\n",
    "ax = sns.set_style('whitegrid')\n",
    "ax = sns.distplot(Count, kde=False, axlabel='No.of punctuations in Phrases having Poor BLEU Score')\n",
    "\n",
    "\n",
    "plt.show()"
   ]
  },
  {
   "cell_type": "markdown",
   "metadata": {
    "id": "8MZJnJHDGXPr"
   },
   "source": [
    "**Observations:**\n",
    "* Same as in test data analysis, In train data analysis also, Similar Characterstics are responsible for variations in score.\n",
    "Like the sentences with more punctuations and more length are having bleu score less than 0.7.\n",
    "* The sentences with very less or no punctuations, less length and less number of words are having bleu score greater than 0.9."
   ]
  }
 ],
 "metadata": {
  "accelerator": "GPU",
  "colab": {
   "collapsed_sections": [],
   "machine_shape": "hm",
   "name": "Prediction Analysis.ipynb",
   "provenance": [
    {
     "file_id": "1IzPbxNFQmmSYk9s14L4YjBfUgACn9mW2",
     "timestamp": 1621245605486
    },
    {
     "file_id": "1G7NKeneJNyRtcRxLVbbF9jYtRyuTOa-R",
     "timestamp": 1592749700622
    },
    {
     "file_id": "https://github.com/satyajitghana/TSAI-DeepVision-EVA4.0/blob/master/Utils/Colab_25GBRAM_GPU.ipynb",
     "timestamp": 1592043804148
    }
   ],
   "toc_visible": true
  },
  "kernelspec": {
   "display_name": "Python 3",
   "language": "python",
   "name": "python3"
  },
  "language_info": {
   "codemirror_mode": {
    "name": "ipython",
    "version": 3
   },
   "file_extension": ".py",
   "mimetype": "text/x-python",
   "name": "python",
   "nbconvert_exporter": "python",
   "pygments_lexer": "ipython3",
   "version": "3.6.5"
  }
 },
 "nbformat": 4,
 "nbformat_minor": 1
}
