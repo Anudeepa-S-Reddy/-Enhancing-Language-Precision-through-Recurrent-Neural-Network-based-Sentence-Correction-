{
 "cells": [
  {
   "cell_type": "markdown",
   "metadata": {
    "id": "wBQIeYlpCHBf"
   },
   "source": [
    "## Imports"
   ]
  },
  {
   "cell_type": "code",
   "execution_count": 112,
   "metadata": {
    "executionInfo": {
     "elapsed": 883,
     "status": "ok",
     "timestamp": 1620667619162,
     "user": {
      "displayName": "Deepu S",
      "photoUrl": "https://lh3.googleusercontent.com/a-/AOh14GhA3jWBdgJvxz0fRJHDdC-2zr5r_I2FAAyJ57Yw81s=s64",
      "userId": "08960752430539190859"
     },
     "user_tz": -330
    },
    "id": "tSB0-tBMCRYv"
   },
   "outputs": [],
   "source": [
    "import numpy as np\n",
    "import pandas as pd\n",
    "import re\n",
    "import string "
   ]
  },
  {
   "cell_type": "code",
   "execution_count": 2,
   "metadata": {
    "colab": {
     "base_uri": "https://localhost:8080/"
    },
    "executionInfo": {
     "elapsed": 24840,
     "status": "ok",
     "timestamp": 1620663029640,
     "user": {
      "displayName": "Deepu S",
      "photoUrl": "https://lh3.googleusercontent.com/a-/AOh14GhA3jWBdgJvxz0fRJHDdC-2zr5r_I2FAAyJ57Yw81s=s64",
      "userId": "08960752430539190859"
     },
     "user_tz": -330
    },
    "id": "-5uYe_VaB-4-",
    "outputId": "51f2d3d3-5bbf-4ec6-80cf-86db2b902468"
   },
   "outputs": [
    {
     "name": "stdout",
     "output_type": "stream",
     "text": [
      "Mounted at /content/drive\n"
     ]
    }
   ],
   "source": [
    "from google.colab import drive\n",
    "drive.mount('/content/drive', force_remount=True)"
   ]
  },
  {
   "cell_type": "code",
   "execution_count": 3,
   "metadata": {
    "colab": {
     "base_uri": "https://localhost:8080/"
    },
    "executionInfo": {
     "elapsed": 1222,
     "status": "ok",
     "timestamp": 1620663030904,
     "user": {
      "displayName": "Deepu S",
      "photoUrl": "https://lh3.googleusercontent.com/a-/AOh14GhA3jWBdgJvxz0fRJHDdC-2zr5r_I2FAAyJ57Yw81s=s64",
      "userId": "08960752430539190859"
     },
     "user_tz": -330
    },
    "id": "-5tadECMCWc5",
    "outputId": "31b71589-77be-4f47-962e-3329ba9e6d21"
   },
   "outputs": [
    {
     "name": "stdout",
     "output_type": "stream",
     "text": [
      "/content/drive/MyDrive/CS_2\n"
     ]
    }
   ],
   "source": [
    "%cd /content/drive/MyDrive/CS_2"
   ]
  },
  {
   "cell_type": "code",
   "execution_count": 113,
   "metadata": {
    "executionInfo": {
     "elapsed": 1409,
     "status": "ok",
     "timestamp": 1620667621776,
     "user": {
      "displayName": "Deepu S",
      "photoUrl": "https://lh3.googleusercontent.com/a-/AOh14GhA3jWBdgJvxz0fRJHDdC-2zr5r_I2FAAyJ57Yw81s=s64",
      "userId": "08960752430539190859"
     },
     "user_tz": -330
    },
    "id": "A0ksFdXhCfdM"
   },
   "outputs": [],
   "source": [
    "data=pd.read_csv('data')"
   ]
  },
  {
   "cell_type": "markdown",
   "metadata": {
    "id": "ekMa3TO7RtyQ"
   },
   "source": [
    "## Dropping outliers"
   ]
  },
  {
   "cell_type": "code",
   "execution_count": 114,
   "metadata": {
    "executionInfo": {
     "elapsed": 1222,
     "status": "ok",
     "timestamp": 1620667623546,
     "user": {
      "displayName": "Deepu S",
      "photoUrl": "https://lh3.googleusercontent.com/a-/AOh14GhA3jWBdgJvxz0fRJHDdC-2zr5r_I2FAAyJ57Yw81s=s64",
      "userId": "08960752430539190859"
     },
     "user_tz": -330
    },
    "id": "UStro8_mR3zN"
   },
   "outputs": [],
   "source": [
    "data['Source_len'] = data['Source'].apply(len)\n",
    "data = data[data['Source_len'] < 170] # Removing the sentences with length more than 162\n",
    "\n",
    "data['Target_len'] = data['Target'].apply(len)\n",
    "data = data[data['Target_len'] < 201]"
   ]
  },
  {
   "cell_type": "markdown",
   "metadata": {
    "id": "DWbXD8ErIcqT"
   },
   "source": [
    "## Removing non printable Characters"
   ]
  },
  {
   "cell_type": "code",
   "execution_count": 116,
   "metadata": {
    "executionInfo": {
     "elapsed": 887,
     "status": "ok",
     "timestamp": 1620667631485,
     "user": {
      "displayName": "Deepu S",
      "photoUrl": "https://lh3.googleusercontent.com/a-/AOh14GhA3jWBdgJvxz0fRJHDdC-2zr5r_I2FAAyJ57Yw81s=s64",
      "userId": "08960752430539190859"
     },
     "user_tz": -330
    },
    "id": "3NNw9gLcIszM"
   },
   "outputs": [],
   "source": [
    "#https://www.geeksforgeeks.org/python-string-printable/\n",
    "printable_chars=[]\n",
    "for i in string.printable: # Gives the printable characters\n",
    "    printable_chars.append(i)"
   ]
  },
  {
   "cell_type": "code",
   "execution_count": 117,
   "metadata": {
    "colab": {
     "base_uri": "https://localhost:8080/"
    },
    "executionInfo": {
     "elapsed": 931,
     "status": "ok",
     "timestamp": 1620667632405,
     "user": {
      "displayName": "Deepu S",
      "photoUrl": "https://lh3.googleusercontent.com/a-/AOh14GhA3jWBdgJvxz0fRJHDdC-2zr5r_I2FAAyJ57Yw81s=s64",
      "userId": "08960752430539190859"
     },
     "user_tz": -330
    },
    "id": "4Jzp0Z56JQqD",
    "outputId": "9d43a21d-33d0-439b-abb0-633c616c2c73"
   },
   "outputs": [
    {
     "name": "stdout",
     "output_type": "stream",
     "text": [
      "['0', '1', '2', '3', '4', '5', '6', '7', '8', '9', 'a', 'b', 'c', 'd', 'e', 'f', 'g', 'h', 'i', 'j', 'k', 'l', 'm', 'n', 'o', 'p', 'q', 'r', 's', 't', 'u', 'v', 'w', 'x', 'y', 'z', 'A', 'B', 'C', 'D', 'E', 'F', 'G', 'H', 'I', 'J', 'K', 'L', 'M', 'N', 'O', 'P', 'Q', 'R', 'S', 'T', 'U', 'V', 'W', 'X', 'Y', 'Z', '!', '\"', '#', '$', '%', '&', \"'\", '(', ')', '*', '+', ',', '-', '.', '/', ':', ';', '<', '=', '>', '?', '@', '[', '\\\\', ']', '^', '_', '`', '{', '|', '}', '~', ' ', '\\t', '\\n', '\\r', '\\x0b', '\\x0c']\n"
     ]
    }
   ],
   "source": [
    "print(printable_chars)"
   ]
  },
  {
   "cell_type": "code",
   "execution_count": 118,
   "metadata": {
    "colab": {
     "base_uri": "https://localhost:8080/"
    },
    "executionInfo": {
     "elapsed": 886,
     "status": "ok",
     "timestamp": 1620667635155,
     "user": {
      "displayName": "Deepu S",
      "photoUrl": "https://lh3.googleusercontent.com/a-/AOh14GhA3jWBdgJvxz0fRJHDdC-2zr5r_I2FAAyJ57Yw81s=s64",
      "userId": "08960752430539190859"
     },
     "user_tz": -330
    },
    "id": "t2DyglSRMQTu",
    "outputId": "3052e77d-1c2c-484c-a07b-f195f2be0d87"
   },
   "outputs": [
    {
     "name": "stdout",
     "output_type": "stream",
     "text": [
      "{'è', 'É', 'ü', 'å', 'ì', 'à', 'ñ', '£', 'Ñ', 'ò', 'é', 'ù', 'ö', 'Ü', 'ä', 'ø'}\n"
     ]
    }
   ],
   "source": [
    "non_printable=set()\n",
    "for line in data.Source:\n",
    "    for char in line:\n",
    "        if char not in printable_chars:\n",
    "            non_printable.add(char) # set adds only unique characters. so we obtain each nonprintable character only once. \n",
    "print(non_printable)"
   ]
  },
  {
   "cell_type": "code",
   "execution_count": 119,
   "metadata": {
    "executionInfo": {
     "elapsed": 907,
     "status": "ok",
     "timestamp": 1620667636944,
     "user": {
      "displayName": "Deepu S",
      "photoUrl": "https://lh3.googleusercontent.com/a-/AOh14GhA3jWBdgJvxz0fRJHDdC-2zr5r_I2FAAyJ57Yw81s=s64",
      "userId": "08960752430539190859"
     },
     "user_tz": -330
    },
    "id": "wFS_Nf7SSjDm"
   },
   "outputs": [],
   "source": [
    "values=['e','E','u','a','i','a','n','E','N','o','e','u','o','U','a','o']"
   ]
  },
  {
   "cell_type": "code",
   "execution_count": 120,
   "metadata": {
    "executionInfo": {
     "elapsed": 867,
     "status": "ok",
     "timestamp": 1620667638539,
     "user": {
      "displayName": "Deepu S",
      "photoUrl": "https://lh3.googleusercontent.com/a-/AOh14GhA3jWBdgJvxz0fRJHDdC-2zr5r_I2FAAyJ57Yw81s=s64",
      "userId": "08960752430539190859"
     },
     "user_tz": -330
    },
    "id": "DhfTwXYmSOkv"
   },
   "outputs": [],
   "source": [
    "dictt = dict(zip(non_printable,values))"
   ]
  },
  {
   "cell_type": "code",
   "execution_count": 121,
   "metadata": {
    "executionInfo": {
     "elapsed": 1169,
     "status": "ok",
     "timestamp": 1620667639905,
     "user": {
      "displayName": "Deepu S",
      "photoUrl": "https://lh3.googleusercontent.com/a-/AOh14GhA3jWBdgJvxz0fRJHDdC-2zr5r_I2FAAyJ57Yw81s=s64",
      "userId": "08960752430539190859"
     },
     "user_tz": -330
    },
    "id": "TdjDwBELS20R"
   },
   "outputs": [],
   "source": [
    "for key,value in dictt.items():\n",
    "    data=data.replace(key,value, regex=True)"
   ]
  },
  {
   "cell_type": "markdown",
   "metadata": {
    "id": "CgsbFmSJDGeY"
   },
   "source": [
    "### Word_level"
   ]
  },
  {
   "cell_type": "code",
   "execution_count": 123,
   "metadata": {
    "executionInfo": {
     "elapsed": 998,
     "status": "ok",
     "timestamp": 1620667645679,
     "user": {
      "displayName": "Deepu S",
      "photoUrl": "https://lh3.googleusercontent.com/a-/AOh14GhA3jWBdgJvxz0fRJHDdC-2zr5r_I2FAAyJ57Yw81s=s64",
      "userId": "08960752430539190859"
     },
     "user_tz": -330
    },
    "id": "k5TZVw6mIC_g"
   },
   "outputs": [],
   "source": [
    "data_wl=data"
   ]
  },
  {
   "cell_type": "code",
   "execution_count": 124,
   "metadata": {
    "executionInfo": {
     "elapsed": 734,
     "status": "ok",
     "timestamp": 1620667646019,
     "user": {
      "displayName": "Deepu S",
      "photoUrl": "https://lh3.googleusercontent.com/a-/AOh14GhA3jWBdgJvxz0fRJHDdC-2zr5r_I2FAAyJ57Yw81s=s64",
      "userId": "08960752430539190859"
     },
     "user_tz": -330
    },
    "id": "6HLbAobAV28Q"
   },
   "outputs": [],
   "source": [
    "data_wl['Target_inp'] = '<start> ' + data['Target'].astype(str) # Adding the start word at the beginning of each sentence\n",
    "data_wl['Target_out'] = data['Target'].astype(str) + ' <end>' # Adding end word at the end of each sentence\n",
    "data_wl = data_wl.drop(['Target','Source_len','Target_len'], axis=1)"
   ]
  },
  {
   "cell_type": "code",
   "execution_count": 126,
   "metadata": {
    "colab": {
     "base_uri": "https://localhost:8080/",
     "height": 402
    },
    "executionInfo": {
     "elapsed": 966,
     "status": "ok",
     "timestamp": 1620667651838,
     "user": {
      "displayName": "Deepu S",
      "photoUrl": "https://lh3.googleusercontent.com/a-/AOh14GhA3jWBdgJvxz0fRJHDdC-2zr5r_I2FAAyJ57Yw81s=s64",
      "userId": "08960752430539190859"
     },
     "user_tz": -330
    },
    "id": "qKMzIOrmUfqh",
    "outputId": "553d7f0d-7882-4621-e770-e56e302406e3"
   },
   "outputs": [
    {
     "data": {
      "text/html": [
       "<div>\n",
       "<style scoped>\n",
       "    .dataframe tbody tr th:only-of-type {\n",
       "        vertical-align: middle;\n",
       "    }\n",
       "\n",
       "    .dataframe tbody tr th {\n",
       "        vertical-align: top;\n",
       "    }\n",
       "\n",
       "    .dataframe thead th {\n",
       "        text-align: right;\n",
       "    }\n",
       "</style>\n",
       "<table border=\"1\" class=\"dataframe\">\n",
       "  <thead>\n",
       "    <tr style=\"text-align: right;\">\n",
       "      <th></th>\n",
       "      <th>Source</th>\n",
       "      <th>Target_inp</th>\n",
       "      <th>Target_out</th>\n",
       "    </tr>\n",
       "  </thead>\n",
       "  <tbody>\n",
       "    <tr>\n",
       "      <th>0</th>\n",
       "      <td>U wan me to \"chop\" seat 4 u nt?</td>\n",
       "      <td>&lt;start&gt; Do you want me to reserve seat for you...</td>\n",
       "      <td>Do you want me to reserve seat for you or not?...</td>\n",
       "    </tr>\n",
       "    <tr>\n",
       "      <th>1</th>\n",
       "      <td>Yup. U reaching. We order some durian pastry a...</td>\n",
       "      <td>&lt;start&gt; Yeap. You reaching? We ordered some Du...</td>\n",
       "      <td>Yeap. You reaching? We ordered some Durian pas...</td>\n",
       "    </tr>\n",
       "    <tr>\n",
       "      <th>2</th>\n",
       "      <td>They become more ex oredi... Mine is like 25.....</td>\n",
       "      <td>&lt;start&gt; They become more expensive already. Mi...</td>\n",
       "      <td>They become more expensive already. Mine is li...</td>\n",
       "    </tr>\n",
       "    <tr>\n",
       "      <th>3</th>\n",
       "      <td>I'm thai. what do u do?</td>\n",
       "      <td>&lt;start&gt; I'm Thai. What do you do?</td>\n",
       "      <td>I'm Thai. What do you do? &lt;end&gt;</td>\n",
       "    </tr>\n",
       "    <tr>\n",
       "      <th>4</th>\n",
       "      <td>Hi! How did your week go? Haven heard from you...</td>\n",
       "      <td>&lt;start&gt; Hi! How did your week go? Haven't hear...</td>\n",
       "      <td>Hi! How did your week go? Haven't heard from y...</td>\n",
       "    </tr>\n",
       "    <tr>\n",
       "      <th>...</th>\n",
       "      <td>...</td>\n",
       "      <td>...</td>\n",
       "      <td>...</td>\n",
       "    </tr>\n",
       "    <tr>\n",
       "      <th>1994</th>\n",
       "      <td>Hi tina ...</td>\n",
       "      <td>&lt;start&gt; Hi tina.</td>\n",
       "      <td>Hi tina. &lt;end&gt;</td>\n",
       "    </tr>\n",
       "    <tr>\n",
       "      <th>1995</th>\n",
       "      <td>Hmmm... Thk i usually book on wkends... Depend...</td>\n",
       "      <td>&lt;start&gt; Hmm. I think I usually book on weekend...</td>\n",
       "      <td>Hmm. I think I usually book on weekends. It de...</td>\n",
       "    </tr>\n",
       "    <tr>\n",
       "      <th>1997</th>\n",
       "      <td>We r near coca oredi...</td>\n",
       "      <td>&lt;start&gt; We are near Coca already.</td>\n",
       "      <td>We are near Coca already. &lt;end&gt;</td>\n",
       "    </tr>\n",
       "    <tr>\n",
       "      <th>1998</th>\n",
       "      <td>hall Eleven. Got lectures le mah.en forget abt...</td>\n",
       "      <td>&lt;start&gt; Hall eleven. Got lectures. And forget ...</td>\n",
       "      <td>Hall eleven. Got lectures. And forget about co...</td>\n",
       "    </tr>\n",
       "    <tr>\n",
       "      <th>1999</th>\n",
       "      <td>I Bring for u. I can not promise u 100% to win...</td>\n",
       "      <td>&lt;start&gt; I bring for you. I can not promise you...</td>\n",
       "      <td>I bring for you. I can not promise you 100% to...</td>\n",
       "    </tr>\n",
       "  </tbody>\n",
       "</table>\n",
       "<p>1993 rows × 3 columns</p>\n",
       "</div>"
      ],
      "text/plain": [
       "                                                 Source  ...                                         Target_out\n",
       "0                       U wan me to \"chop\" seat 4 u nt?  ...  Do you want me to reserve seat for you or not?...\n",
       "1     Yup. U reaching. We order some durian pastry a...  ...  Yeap. You reaching? We ordered some Durian pas...\n",
       "2     They become more ex oredi... Mine is like 25.....  ...  They become more expensive already. Mine is li...\n",
       "3                               I'm thai. what do u do?  ...                    I'm Thai. What do you do? <end>\n",
       "4     Hi! How did your week go? Haven heard from you...  ...  Hi! How did your week go? Haven't heard from y...\n",
       "...                                                 ...  ...                                                ...\n",
       "1994                                        Hi tina ...  ...                                     Hi tina. <end>\n",
       "1995  Hmmm... Thk i usually book on wkends... Depend...  ...  Hmm. I think I usually book on weekends. It de...\n",
       "1997                            We r near coca oredi...  ...                    We are near Coca already. <end>\n",
       "1998  hall Eleven. Got lectures le mah.en forget abt...  ...  Hall eleven. Got lectures. And forget about co...\n",
       "1999  I Bring for u. I can not promise u 100% to win...  ...  I bring for you. I can not promise you 100% to...\n",
       "\n",
       "[1993 rows x 3 columns]"
      ]
     },
     "execution_count": 126,
     "metadata": {
      "tags": []
     },
     "output_type": "execute_result"
    }
   ],
   "source": [
    "data_wl"
   ]
  },
  {
   "cell_type": "markdown",
   "metadata": {
    "id": "AF3QWLWaEXTV"
   },
   "source": [
    "### Character_level"
   ]
  },
  {
   "cell_type": "code",
   "execution_count": 127,
   "metadata": {
    "executionInfo": {
     "elapsed": 926,
     "status": "ok",
     "timestamp": 1620667656462,
     "user": {
      "displayName": "Deepu S",
      "photoUrl": "https://lh3.googleusercontent.com/a-/AOh14GhA3jWBdgJvxz0fRJHDdC-2zr5r_I2FAAyJ57Yw81s=s64",
      "userId": "08960752430539190859"
     },
     "user_tz": -330
    },
    "id": "zD6cxoW1YByR"
   },
   "outputs": [],
   "source": [
    "data_cl=data"
   ]
  },
  {
   "cell_type": "code",
   "execution_count": 128,
   "metadata": {
    "executionInfo": {
     "elapsed": 752,
     "status": "ok",
     "timestamp": 1620667656885,
     "user": {
      "displayName": "Deepu S",
      "photoUrl": "https://lh3.googleusercontent.com/a-/AOh14GhA3jWBdgJvxz0fRJHDdC-2zr5r_I2FAAyJ57Yw81s=s64",
      "userId": "08960752430539190859"
     },
     "user_tz": -330
    },
    "id": "R2vDj4AdV-Nv"
   },
   "outputs": [],
   "source": [
    "data_cl['Target_inp'] = '\\t ' + data['Target'].astype(str) # Adding the start word at the beginning of each sentence\n",
    "data_cl['Target_out'] = data['Target'].astype(str) + '\\n' # Adding end word at the end of each sentence\n",
    "data_cl = data_cl.drop(['Target','Source_len','Target_len'], axis=1)"
   ]
  },
  {
   "cell_type": "code",
   "execution_count": 129,
   "metadata": {
    "colab": {
     "base_uri": "https://localhost:8080/",
     "height": 402
    },
    "executionInfo": {
     "elapsed": 1114,
     "status": "ok",
     "timestamp": 1620667661352,
     "user": {
      "displayName": "Deepu S",
      "photoUrl": "https://lh3.googleusercontent.com/a-/AOh14GhA3jWBdgJvxz0fRJHDdC-2zr5r_I2FAAyJ57Yw81s=s64",
      "userId": "08960752430539190859"
     },
     "user_tz": -330
    },
    "id": "C_EYbWpRYHXZ",
    "outputId": "2e8bb572-b304-4b3c-ae5a-78bed602d5a6"
   },
   "outputs": [
    {
     "data": {
      "text/html": [
       "<div>\n",
       "<style scoped>\n",
       "    .dataframe tbody tr th:only-of-type {\n",
       "        vertical-align: middle;\n",
       "    }\n",
       "\n",
       "    .dataframe tbody tr th {\n",
       "        vertical-align: top;\n",
       "    }\n",
       "\n",
       "    .dataframe thead th {\n",
       "        text-align: right;\n",
       "    }\n",
       "</style>\n",
       "<table border=\"1\" class=\"dataframe\">\n",
       "  <thead>\n",
       "    <tr style=\"text-align: right;\">\n",
       "      <th></th>\n",
       "      <th>Source</th>\n",
       "      <th>Target_inp</th>\n",
       "      <th>Target_out</th>\n",
       "    </tr>\n",
       "  </thead>\n",
       "  <tbody>\n",
       "    <tr>\n",
       "      <th>0</th>\n",
       "      <td>U wan me to \"chop\" seat 4 u nt?</td>\n",
       "      <td>\\t Do you want me to reserve seat for you or not?</td>\n",
       "      <td>Do you want me to reserve seat for you or not?\\n</td>\n",
       "    </tr>\n",
       "    <tr>\n",
       "      <th>1</th>\n",
       "      <td>Yup. U reaching. We order some durian pastry a...</td>\n",
       "      <td>\\t Yeap. You reaching? We ordered some Durian ...</td>\n",
       "      <td>Yeap. You reaching? We ordered some Durian pas...</td>\n",
       "    </tr>\n",
       "    <tr>\n",
       "      <th>2</th>\n",
       "      <td>They become more ex oredi... Mine is like 25.....</td>\n",
       "      <td>\\t They become more expensive already. Mine is...</td>\n",
       "      <td>They become more expensive already. Mine is li...</td>\n",
       "    </tr>\n",
       "    <tr>\n",
       "      <th>3</th>\n",
       "      <td>I'm thai. what do u do?</td>\n",
       "      <td>\\t I'm Thai. What do you do?</td>\n",
       "      <td>I'm Thai. What do you do?\\n</td>\n",
       "    </tr>\n",
       "    <tr>\n",
       "      <th>4</th>\n",
       "      <td>Hi! How did your week go? Haven heard from you...</td>\n",
       "      <td>\\t Hi! How did your week go? Haven't heard fro...</td>\n",
       "      <td>Hi! How did your week go? Haven't heard from y...</td>\n",
       "    </tr>\n",
       "    <tr>\n",
       "      <th>...</th>\n",
       "      <td>...</td>\n",
       "      <td>...</td>\n",
       "      <td>...</td>\n",
       "    </tr>\n",
       "    <tr>\n",
       "      <th>1994</th>\n",
       "      <td>Hi tina ...</td>\n",
       "      <td>\\t Hi tina.</td>\n",
       "      <td>Hi tina.\\n</td>\n",
       "    </tr>\n",
       "    <tr>\n",
       "      <th>1995</th>\n",
       "      <td>Hmmm... Thk i usually book on wkends... Depend...</td>\n",
       "      <td>\\t Hmm. I think I usually book on weekends. It...</td>\n",
       "      <td>Hmm. I think I usually book on weekends. It de...</td>\n",
       "    </tr>\n",
       "    <tr>\n",
       "      <th>1997</th>\n",
       "      <td>We r near coca oredi...</td>\n",
       "      <td>\\t We are near Coca already.</td>\n",
       "      <td>We are near Coca already.\\n</td>\n",
       "    </tr>\n",
       "    <tr>\n",
       "      <th>1998</th>\n",
       "      <td>hall Eleven. Got lectures le mah.en forget abt...</td>\n",
       "      <td>\\t Hall eleven. Got lectures. And forget about...</td>\n",
       "      <td>Hall eleven. Got lectures. And forget about co...</td>\n",
       "    </tr>\n",
       "    <tr>\n",
       "      <th>1999</th>\n",
       "      <td>I Bring for u. I can not promise u 100% to win...</td>\n",
       "      <td>\\t I bring for you. I can not promise you 100%...</td>\n",
       "      <td>I bring for you. I can not promise you 100% to...</td>\n",
       "    </tr>\n",
       "  </tbody>\n",
       "</table>\n",
       "<p>1993 rows × 3 columns</p>\n",
       "</div>"
      ],
      "text/plain": [
       "                                                 Source  ...                                         Target_out\n",
       "0                       U wan me to \"chop\" seat 4 u nt?  ...   Do you want me to reserve seat for you or not?\\n\n",
       "1     Yup. U reaching. We order some durian pastry a...  ...  Yeap. You reaching? We ordered some Durian pas...\n",
       "2     They become more ex oredi... Mine is like 25.....  ...  They become more expensive already. Mine is li...\n",
       "3                               I'm thai. what do u do?  ...                        I'm Thai. What do you do?\\n\n",
       "4     Hi! How did your week go? Haven heard from you...  ...  Hi! How did your week go? Haven't heard from y...\n",
       "...                                                 ...  ...                                                ...\n",
       "1994                                        Hi tina ...  ...                                         Hi tina.\\n\n",
       "1995  Hmmm... Thk i usually book on wkends... Depend...  ...  Hmm. I think I usually book on weekends. It de...\n",
       "1997                            We r near coca oredi...  ...                        We are near Coca already.\\n\n",
       "1998  hall Eleven. Got lectures le mah.en forget abt...  ...  Hall eleven. Got lectures. And forget about co...\n",
       "1999  I Bring for u. I can not promise u 100% to win...  ...  I bring for you. I can not promise you 100% to...\n",
       "\n",
       "[1993 rows x 3 columns]"
      ]
     },
     "execution_count": 129,
     "metadata": {
      "tags": []
     },
     "output_type": "execute_result"
    }
   ],
   "source": [
    "data_cl"
   ]
  },
  {
   "cell_type": "markdown",
   "metadata": {
    "id": "LDdh9BxfxZGJ"
   },
   "source": [
    "<font color='green'>After the preprocessing step, we are left with 1989 sentences."
   ]
  },
  {
   "cell_type": "code",
   "execution_count": 130,
   "metadata": {
    "executionInfo": {
     "elapsed": 962,
     "status": "ok",
     "timestamp": 1620667963556,
     "user": {
      "displayName": "Deepu S",
      "photoUrl": "https://lh3.googleusercontent.com/a-/AOh14GhA3jWBdgJvxz0fRJHDdC-2zr5r_I2FAAyJ57Yw81s=s64",
      "userId": "08960752430539190859"
     },
     "user_tz": -330
    },
    "id": "zleuUVXJTsEi"
   },
   "outputs": [],
   "source": [
    "data_wl.to_csv('data_wl',index=False)"
   ]
  },
  {
   "cell_type": "code",
   "execution_count": 131,
   "metadata": {
    "executionInfo": {
     "elapsed": 984,
     "status": "ok",
     "timestamp": 1620667965058,
     "user": {
      "displayName": "Deepu S",
      "photoUrl": "https://lh3.googleusercontent.com/a-/AOh14GhA3jWBdgJvxz0fRJHDdC-2zr5r_I2FAAyJ57Yw81s=s64",
      "userId": "08960752430539190859"
     },
     "user_tz": -330
    },
    "id": "DC0WIYJgYtJc"
   },
   "outputs": [],
   "source": [
    "data_cl.to_csv('data_cl',index=False)"
   ]
  }
 ],
 "metadata": {
  "colab": {
   "collapsed_sections": [],
   "machine_shape": "hm",
   "name": "CS_2_Preprocessing.ipynb",
   "provenance": [
    {
     "file_id": "1IzPbxNFQmmSYk9s14L4YjBfUgACn9mW2",
     "timestamp": 1620310418094
    },
    {
     "file_id": "1G7NKeneJNyRtcRxLVbbF9jYtRyuTOa-R",
     "timestamp": 1592749700622
    },
    {
     "file_id": "https://github.com/satyajitghana/TSAI-DeepVision-EVA4.0/blob/master/Utils/Colab_25GBRAM_GPU.ipynb",
     "timestamp": 1592043804148
    }
   ],
   "toc_visible": true
  },
  "kernelspec": {
   "display_name": "Python 3",
   "language": "python",
   "name": "python3"
  },
  "language_info": {
   "codemirror_mode": {
    "name": "ipython",
    "version": 3
   },
   "file_extension": ".py",
   "mimetype": "text/x-python",
   "name": "python",
   "nbconvert_exporter": "python",
   "pygments_lexer": "ipython3",
   "version": "3.6.5"
  }
 },
 "nbformat": 4,
 "nbformat_minor": 1
}
